{
 "cells": [
  {
   "cell_type": "markdown",
   "metadata": {},
   "source": [
    "Load dependencies"
   ]
  },
  {
   "cell_type": "code",
   "execution_count": null,
   "metadata": {},
   "outputs": [],
   "source": [
    "using Revise # drop later\n",
    "using StableDQMC\n",
    "using BenchmarkTools\n",
    "using LinearAlgebra\n",
    "using Statistics\n",
    "using Test\n",
    "using GenericSVD\n",
    "using JacobiSVD\n",
    "using Plots\n",
    "using StatsPlots\n",
    "using LaTeXStrings\n",
    "using DataStructures\n",
    "using DataFrames\n",
    "using DoubleFloats\n",
    "using BSON: @save, @load"
   ]
  },
  {
   "cell_type": "markdown",
   "metadata": {},
   "source": [
    "Configure plotting defaults"
   ]
  },
  {
   "cell_type": "code",
   "execution_count": null,
   "metadata": {},
   "outputs": [],
   "source": [
    "pyplot();\n",
    "PyPlot.plt.style.use(joinpath(pwd(),\"publication_tex.mplstyle\"))\n",
    "default(\n",
    "    framestyle = :grid,\n",
    "    grid = true,\n",
    "    guidefont=font(15),\n",
    "#     framestyle = :box,\n",
    "#     grid = false,\n",
    "#     guidefont=font(18),\n",
    "    legend = true,\n",
    "    size = (1.6*360, 360),\n",
    "    xtickfont=font(13), \n",
    "    ytickfont=font(13), \n",
    "    legendfont=font(12),\n",
    "    linewidth = 1.5\n",
    ");"
   ]
  },
  {
   "cell_type": "markdown",
   "metadata": {},
   "source": [
    "Basic tests"
   ]
  },
  {
   "cell_type": "code",
   "execution_count": null,
   "metadata": {},
   "outputs": [],
   "source": [
    "@testset \"Basic tests\" begin\n",
    "    B = rand(5,5) # regular matrix\n",
    "    N = 10\n",
    "    @test isapprox(calc_Bchain(B, N)[1], B^N)\n",
    "    @test isapprox(Matrix(calc_Bchain_svd(B, N; svdalg = gesdd)[1]), B^N)\n",
    "    @test isapprox(Matrix(calc_Bchain_svd(B, N; svdalg =  gesvd)[1]), B^N)\n",
    "    @test isapprox(Matrix(calc_Bchain_svd(B, N; svdalg =  genericsvd)[1]), B^N)\n",
    "    @test isapprox(Matrix(calc_Bchain_qr(B, N)[1]), B^N)\n",
    "end;"
   ]
  },
  {
   "cell_type": "markdown",
   "metadata": {},
   "source": [
    "# Hubbard model"
   ]
  },
  {
   "cell_type": "code",
   "execution_count": null,
   "metadata": {},
   "outputs": [],
   "source": [
    "# Parameters\n",
    "nsites = 4\n",
    "n = nsites * 2 # spin\n",
    "t = 1\n",
    "μ = 0\n",
    "Δτ = 0.1\n",
    "\n",
    "# Kinetic part (PBC)\n",
    "T = diagm(-1 => fill(-t, n-1), 1 => fill(-t, n-1), 0 => fill(μ, n))\n",
    "T[1,end] = -t; T[end,1] = -t;\n",
    "\n",
    "# On-site interaction\n",
    "function eU(U)\n",
    "    λ = acosh(exp(0.5*U*Δτ))\n",
    "    Diagonal(vcat(fill(exp(λ), nsites), fill(exp(-λ), nsites)))\n",
    "end\n",
    "\n",
    "B0 = exp(-Δτ .* T)            # non-interacting\n",
    "B1 = exp(-Δτ .* T) * eU(1);   # U = 1\n",
    "B4 = exp(-Δτ .* T) * eU(4);   # U = 4"
   ]
  },
  {
   "cell_type": "markdown",
   "metadata": {},
   "source": [
    "## Non-interacting"
   ]
  },
  {
   "cell_type": "markdown",
   "metadata": {},
   "source": [
    "Compare to exact discretized energies"
   ]
  },
  {
   "cell_type": "code",
   "execution_count": null,
   "metadata": {},
   "outputs": [],
   "source": [
    "ks = LinRange(-pi, pi, n+1)[1:end-1]\n",
    "ϵ(k) = -2*t*cos(k) + μ\n",
    "sort(ϵ.(ks))\n",
    "\n",
    "plot(ks, sort(ϵ.(ks)), marker=true, label=\"exact\")\n",
    "plot!(ks, eigvals(T), marker=true, label=\"eigenvalues\")"
   ]
  },
  {
   "cell_type": "markdown",
   "metadata": {},
   "source": [
    "Condition number and breakdown estimation"
   ]
  },
  {
   "cell_type": "code",
   "execution_count": null,
   "metadata": {},
   "outputs": [],
   "source": [
    "kappa(N) = exp(4abs(t)*N*Δτ)"
   ]
  },
  {
   "cell_type": "code",
   "execution_count": null,
   "metadata": {},
   "outputs": [],
   "source": [
    "cond(B0) # from LinearAlgebra"
   ]
  },
  {
   "cell_type": "code",
   "execution_count": null,
   "metadata": {},
   "outputs": [],
   "source": [
    "@test kappa(1) ≈ cond(B0)"
   ]
  },
  {
   "cell_type": "code",
   "execution_count": null,
   "metadata": {},
   "outputs": [],
   "source": [
    "estimate_breakdown(sigdigits) = sigdigits * log(10) / (4 * abs(t) * Δτ)"
   ]
  },
  {
   "cell_type": "code",
   "execution_count": null,
   "metadata": {},
   "outputs": [],
   "source": [
    "estimate_breakdown(17)"
   ]
  },
  {
   "cell_type": "markdown",
   "metadata": {},
   "source": [
    "# Slice matrix product chain"
   ]
  },
  {
   "cell_type": "markdown",
   "metadata": {},
   "source": [
    "## Instabilities"
   ]
  },
  {
   "cell_type": "code",
   "execution_count": null,
   "metadata": {},
   "outputs": [],
   "source": [
    "N = 500\n",
    "betas = range(1, N * 0.1, length=N)\n",
    "svs_naive = calc_Bchain(B0, N)[2];"
   ]
  },
  {
   "cell_type": "markdown",
   "metadata": {},
   "source": [
    "Compute with \"arbitrary\" floating point precision for comparison"
   ]
  },
  {
   "cell_type": "code",
   "execution_count": null,
   "metadata": {},
   "outputs": [],
   "source": [
    "Bbig = BigFloat.(B0)\n",
    "setprecision(1000) do\n",
    "    global svs_genericsvd = calc_Bchain_svd(Bbig, N; svdalg = genericsvd)[2];\n",
    "end;"
   ]
  },
  {
   "cell_type": "code",
   "execution_count": null,
   "metadata": {},
   "outputs": [],
   "source": [
    "plot(betas, svs_genericsvd, color=\"#E66101\", labels = reshape([\"stable\", \"\", \"\",\"\", \"\",\"\", \"\", \"\"], (1,8)))\n",
    "plot!(betas, svs_naive, color=:green, labels = reshape([\"naive\", \"\", \"\",\"\", \"\",\"\", \"\", \"\"], (1,8)))\n",
    "plot!(1:40, fill(-17, 40), color=:darkgray, linestyle=:dash, label = \"Float64\")\n",
    "\n",
    "ylabel!(\"log singular values\")\n",
    "xlabel!(L\"inverse temperature $\\beta$\")\n",
    "ylims!(-80, 80)\n",
    "xlims!((0., 40.))\n",
    "savefig(\"../paper/figures/naive_vs_stable.pdf\")"
   ]
  },
  {
   "cell_type": "code",
   "execution_count": null,
   "metadata": {},
   "outputs": [],
   "source": [
    "Bdb64 = Double64.(B0)\n",
    "svs_naive = calc_Bchain(Bdb64, N)[2];"
   ]
  },
  {
   "cell_type": "code",
   "execution_count": null,
   "metadata": {},
   "outputs": [],
   "source": [
    "plot(betas, svs_genericsvd, color=\"#E66101\", labels = reshape([\"stable\", \"\", \"\",\"\", \"\",\"\", \"\", \"\"], (1,8)))\n",
    "plot!(betas, svs_naive, color=:green, labels = reshape([\"naive\", \"\", \"\",\"\", \"\",\"\", \"\", \"\"], (1,8)))\n",
    "plot!(1:40, fill(-34, 40), color=:darkgray, linestyle=:dash, label = \"Double64\")\n",
    "\n",
    "ylabel!(\"log singular values\")\n",
    "xlabel!(L\"inverse temperature $\\beta$\")\n",
    "ylims!(-80, 80)\n",
    "xlims!((0., 40.))\n",
    "savefig(\"../paper/figures/naive_vs_stable_db64.pdf\")"
   ]
  },
  {
   "cell_type": "markdown",
   "metadata": {},
   "source": [
    "## Compute slice matrix product chain using different stabilizations"
   ]
  },
  {
   "cell_type": "code",
   "execution_count": null,
   "metadata": {},
   "outputs": [],
   "source": [
    "svs_qr_udt = calc_Bchain_qr(B0, N)[2];\n",
    "svs_gesvd  = calc_Bchain_svd(B0, N; svdalg = gesvd)[2];\n",
    "svs_gesdd  = calc_Bchain_svd(B0, N; svdalg = gesdd)[2];\n",
    "svs_gesvj  = calc_Bchain_svd(B0, N; svdalg = gesvj)[2];"
   ]
  },
  {
   "cell_type": "code",
   "execution_count": null,
   "metadata": {},
   "outputs": [],
   "source": [
    "betas = range(1, N * 0.1, length=N)\n",
    "plot(betas, svs_genericsvd, color=\"#CA0020\", labels = reshape([\"exact\", \"\", \"\",\"\", \"\",\"\", \"\", \"\"], (1,8)))\n",
    "plot!(betas, svs_qr_udt, color=\"#E66101\", labels = reshape([\"QR\", \"\", \"\",\"\", \"\",\"\", \"\", \"\"], (1,8)))\n",
    "plot!(betas, svs_gesvj, color=\"#FDB863\", labels = reshape([\"SVD (Jacobi)\", \"\", \"\",\"\", \"\",\"\", \"\", \"\"], (1,8)))\n",
    "plot!(betas, svs_gesvd, color=\"#008837\", labels = reshape([\"SVD\", \"\", \"\",\"\", \"\",\"\", \"\", \"\"], (1,8)))\n",
    "plot!(betas, svs_gesdd, color=\"#5E3C99\", labels = reshape([\"SVD (D\\\\&C)\", \"\", \"\",\"\", \"\",\"\", \"\", \"\"], (1,8)))\n",
    "\n",
    "ylabel!(\"log singular values\")\n",
    "xlabel!(L\"inverse temperature $\\beta$\")\n",
    "ylims!(-160, 100)\n",
    "xlims!(0., 50.)\n",
    "savefig(\"../paper/figures/decomp_comparison_simple.pdf\")"
   ]
  },
  {
   "cell_type": "markdown",
   "metadata": {},
   "source": [
    "Condition number (UDT/QR) at large $\\beta$"
   ]
  },
  {
   "cell_type": "code",
   "execution_count": null,
   "metadata": {},
   "outputs": [],
   "source": [
    "cond(exp.(svs_qr_udt[end,:]))"
   ]
  },
  {
   "cell_type": "code",
   "execution_count": null,
   "metadata": {},
   "outputs": [],
   "source": [
    "kappa(N)"
   ]
  },
  {
   "cell_type": "markdown",
   "metadata": {},
   "source": [
    "# Accuracy: Equal-times Green's function"
   ]
  },
  {
   "cell_type": "code",
   "execution_count": null,
   "metadata": {},
   "outputs": [],
   "source": [
    "function accuracy_greens(B; svdinversion = inv_one_plus)\n",
    "    Bbig = BigFloat.(B)\n",
    "    \n",
    "    Δs_qr    = SortedDict{Int, Float64}()\n",
    "    Δs_gesvd = SortedDict{Int, Float64}()\n",
    "    Δs_gesdd = SortedDict{Int, Float64}()\n",
    "    Δs_gesvj = SortedDict{Int, Float64}()\n",
    "    \n",
    "    for beta in range(5, 40, step=5)\n",
    "        N = Int(beta * 10)\n",
    "        \n",
    "        local G_genericsvd\n",
    "        setprecision(1000) do\n",
    "            F_genericsvd = calc_Bchain_svd(Bbig, N; svdalg = genericsvd)[1];\n",
    "            G_genericsvd = inv(I + Matrix(F_genericsvd))\n",
    "        end\n",
    "        \n",
    "        # Bchain\n",
    "        F_qr_udt = calc_Bchain_qr(B, N)[1];\n",
    "        F_gesvd  = calc_Bchain_svd(B, N; svdalg = gesvd)[1];\n",
    "        F_gesdd  = calc_Bchain_svd(B, N; svdalg = gesdd)[1];\n",
    "        F_gesvj  = calc_Bchain_svd(B, N; svdalg = StableDQMC.gesvj)[1];\n",
    "        \n",
    "        # inversion\n",
    "        G_qr_udt = inv_one_plus(F_qr_udt)\n",
    "        G_gesvd  = svdinversion(F_gesvd; svdalg = gesvd!)\n",
    "        G_gesdd  = svdinversion(F_gesdd; svdalg = gesdd!)\n",
    "        G_gesvj  = svdinversion(F_gesvj; svdalg = StableDQMC.gesvj!)\n",
    "        \n",
    "        Δs_qr[beta]    = maximum(abs.(G_qr_udt - G_genericsvd))\n",
    "        Δs_gesvd[beta] = maximum(abs.(G_gesvd - G_genericsvd))\n",
    "        Δs_gesdd[beta] = maximum(abs.(G_gesdd - G_genericsvd))\n",
    "        Δs_gesvj[beta] = maximum(abs.(G_gesvj - G_genericsvd))\n",
    "    end\n",
    "    \n",
    "\n",
    "    return Δs_qr, Δs_gesvd, Δs_gesdd, Δs_gesvj\n",
    "end"
   ]
  },
  {
   "cell_type": "markdown",
   "metadata": {},
   "source": [
    "## Regular inversion"
   ]
  },
  {
   "cell_type": "code",
   "execution_count": null,
   "metadata": {},
   "outputs": [],
   "source": [
    "Δs_qr, Δs_gesvd, Δs_gesdd, Δs_gesvj = accuracy_greens(B0);\n",
    "betas = collect(keys(Δs_qr))\n",
    "p = plot(betas, log.(10, values(Δs_qr)), color=\"#E66101\", marker=true, label=\"QR\")\n",
    "plot!(betas, log.(10, values(Δs_gesvd)), color=\"#008837\", marker=true, label=\"SVD\")\n",
    "plot!(betas, log.(10, values(Δs_gesdd)), color=\"#5E3C99\", marker=true, label=\"SVD (D\\\\&C)\")\n",
    "plot!(betas, log.(10, values(Δs_gesvj)), color=\"#FDB863\", marker=true, label=\"SVD (Jacobi)\")\n",
    "\n",
    "Δs_qr, Δs_gesvd, Δs_gesdd, Δs_gesvj = accuracy_greens(B1);\n",
    "plot!(betas, log.(10, values(Δs_qr)), color=\"#E66101\", alpha=.3, msc=\"#666666\", marker=true, label=\"\")\n",
    "plot!(betas, log.(10, values(Δs_gesvd)), color=\"#008837\", alpha=.3, msc=\"#666666\", marker=true, label=\"\")\n",
    "plot!(betas, log.(10, values(Δs_gesdd)), color=\"#5E3C99\", alpha=.3, msc=\"#666666\", marker=true, label=\"\")\n",
    "plot!(betas, log.(10, values(Δs_gesvj)), color=\"#FDB863\", alpha=.3, msc=\"#666666\", marker=true, label=\"\")\n",
    "\n",
    "\n",
    "xlabel!(L\"inverse temperature $\\beta$\")\n",
    "ylabel!(L\"\\log(\\textrm{max}(\\textrm{abs}(G - G_{\\textrm{exact}})))\")\n",
    "# ylims!(0., 1e-3)\n",
    "savefig(\"../paper/figures/accuracy_greens_svd_regularinv.pdf\")"
   ]
  },
  {
   "cell_type": "markdown",
   "metadata": {},
   "source": [
    "## Loh et al inversion"
   ]
  },
  {
   "cell_type": "code",
   "execution_count": null,
   "metadata": {},
   "outputs": [],
   "source": [
    "Δs_qr, Δs_gesvd, Δs_gesdd, Δs_gesvj = accuracy_greens(B0, svdinversion = inv_one_plus_loh);\n",
    "betas = collect(keys(Δs_qr))\n",
    "p = plot(betas, log.(10, values(Δs_qr)), color=\"#E66101\", marker=true, label=\"QR\")\n",
    "plot!(betas, log.(10, values(Δs_gesvd)), color=\"#008837\", marker=true, label=\"SVD\")\n",
    "plot!(betas, log.(10, values(Δs_gesdd)), color=\"#5E3C99\", marker=true, label=\"SVD (D\\\\&C)\")\n",
    "plot!(betas, log.(10, values(Δs_gesvj)), color=\"#FDB863\", marker=true, label=\"SVD (Jacobi)\")\n",
    "\n",
    "Δs_qr, Δs_gesvd, Δs_gesdd, Δs_gesvj = accuracy_greens(B1, svdinversion = inv_one_plus_loh);\n",
    "plot!(betas, log.(10, values(Δs_qr)), color=\"#E66101\", alpha=.3, msc=\"#666666\", marker=true, label=\"\")\n",
    "plot!(betas, log.(10, values(Δs_gesvd)), color=\"#008837\", alpha=.3, msc=\"#666666\", marker=true, label=\"\")\n",
    "plot!(betas, log.(10, values(Δs_gesdd)), color=\"#5E3C99\", alpha=.3, msc=\"#666666\", marker=true, label=\"\")\n",
    "plot!(betas, log.(10, values(Δs_gesvj)), color=\"#FDB863\", alpha=.3, msc=\"#666666\", marker=true, label=\"\")\n",
    "\n",
    "xlabel!(L\"inverse temperature $\\beta$\")\n",
    "ylabel!(L\"\\log(\\textrm{max}(\\textrm{abs}(G - G_{\\textrm{exact}})))\")\n",
    "savefig(\"../paper/figures/accuracy_greens_svd_loh.pdf\")"
   ]
  },
  {
   "cell_type": "markdown",
   "metadata": {},
   "source": [
    "# Accuracy: Determinant"
   ]
  },
  {
   "cell_type": "code",
   "execution_count": null,
   "metadata": {},
   "outputs": [],
   "source": [
    "absdiff(x,y) = abs(x-y)\n",
    "reldiff(x, y) = abs((x - y) / (x + y))\n",
    "\n",
    "function accuracy_determinant(B; svdinversion = svd_inv_one_plus)\n",
    "    Bbig = BigFloat.(B)\n",
    "    \n",
    "    Δs_abs_qr    = SortedDict{Int, Float64}()\n",
    "    Δs_abs_gesvd = SortedDict{Int, Float64}()\n",
    "    Δs_abs_gesdd = SortedDict{Int, Float64}()\n",
    "    Δs_abs_gesvj = SortedDict{Int, Float64}()\n",
    "    \n",
    "    Δs_rel_qr    = SortedDict{Int, Float64}()\n",
    "    Δs_rel_gesvd = SortedDict{Int, Float64}()\n",
    "    Δs_rel_gesdd = SortedDict{Int, Float64}()\n",
    "    Δs_rel_gesvj = SortedDict{Int, Float64}()\n",
    "    \n",
    "    for beta in range(5, 40, step=5)\n",
    "        N = Int(beta * 10)\n",
    "        \n",
    "        local det_genericsvd\n",
    "        setprecision(1000) do\n",
    "            F_genericsvd = calc_Bchain_svd(Bbig, N; svdalg = genericsvd)[1];\n",
    "            det_genericsvd = prod(svd_inv_one_plus(F_genericsvd).S)\n",
    "        end\n",
    "        \n",
    "        # Bchain\n",
    "        F_qr_udt   = calc_Bchain_qr(B, N)[1];\n",
    "        F_gesvd    = calc_Bchain_svd(B, N; svdalg = gesvd)[1];\n",
    "        F_gesdd    = calc_Bchain_svd(B, N; svdalg = gesdd)[1];\n",
    "        F_gesvj    = calc_Bchain_svd(B, N; svdalg = gesvj)[1];\n",
    "        \n",
    "        # inversion + det extraction\n",
    "        det_qr_udt = prod(udt_inv_one_plus(F_qr_udt).D)\n",
    "        det_gesvd  = prod(svdinversion(F_gesvd; svdalg = gesvd!).S)\n",
    "        det_gesdd  = prod(svdinversion(F_gesdd; svdalg = gesdd!).S)\n",
    "        det_gesvj  = prod(svdinversion(F_gesvj; svdalg = StableDQMC.gesvj!).S)\n",
    "        \n",
    "        Δs_abs_qr[beta]    = absdiff(det_qr_udt, det_genericsvd)\n",
    "        Δs_abs_gesvd[beta] = absdiff(det_gesvd, det_genericsvd)\n",
    "        Δs_abs_gesdd[beta] = absdiff(det_gesdd, det_genericsvd)\n",
    "        Δs_abs_gesvj[beta] = absdiff(det_gesvj, det_genericsvd)\n",
    "        \n",
    "        Δs_rel_qr[beta]    = reldiff(det_qr_udt, det_genericsvd)\n",
    "        Δs_rel_gesvd[beta] = reldiff(det_gesvd, det_genericsvd)\n",
    "        Δs_rel_gesdd[beta] = reldiff(det_gesdd, det_genericsvd)\n",
    "        Δs_rel_gesvj[beta] = reldiff(det_gesvj, det_genericsvd)\n",
    "    end\n",
    "    \n",
    "\n",
    "    return Δs_abs_qr, Δs_abs_gesvd, Δs_abs_gesdd, Δs_abs_gesvj,\n",
    "            Δs_rel_qr, Δs_rel_gesvd, Δs_rel_gesdd, Δs_rel_gesvj\n",
    "end"
   ]
  },
  {
   "cell_type": "markdown",
   "metadata": {},
   "source": [
    "## Regular inversion"
   ]
  },
  {
   "cell_type": "code",
   "execution_count": null,
   "metadata": {},
   "outputs": [],
   "source": [
    "Δs_abs_qr, Δs_abs_gesvd, Δs_abs_gesdd, Δs_abs_gesvj,\n",
    "Δs_rel_qr, Δs_rel_gesvd, Δs_rel_gesdd, Δs_rel_gesvj = accuracy_determinant(B0, svdinversion = svd_inv_one_plus)\n",
    "betas = collect(keys(Δs_rel_qr))\n",
    "\n",
    "p = plot(betas, log.(10, values(Δs_rel_qr)), color=\"#E66101\", marker=true, label=\"QR\")\n",
    "plot!(betas, log.(10, values(Δs_rel_gesvd)), color=\"#008837\", marker=true, label=\"SVD\")\n",
    "plot!(betas, log.(10, values(Δs_rel_gesdd)), color=\"#5E3C99\", marker=true, label=\"SVD (D\\\\&C)\")\n",
    "plot!(betas, log.(10, values(Δs_rel_gesvj)), color=\"#FDB863\", marker=true, label=\"SVD (Jacobi)\")\n",
    "\n",
    "Δs_abs_qr, Δs_abs_gesvd, Δs_abs_gesdd, Δs_abs_gesvj,\n",
    "Δs_rel_qr, Δs_rel_gesvd, Δs_rel_gesdd, Δs_rel_gesvj = accuracy_determinant(B1, svdinversion = svd_inv_one_plus)\n",
    "plot!(betas, log.(10, values(Δs_rel_qr)), color=\"#E66101\", marker=true, msc=\"#666666\", alpha=.3, label=\"\")\n",
    "plot!(betas, log.(10, values(Δs_rel_gesvd)), color=\"#008837\", marker=true, msc=\"#666666\", alpha=.3, label=\"\")\n",
    "plot!(betas, log.(10, values(Δs_rel_gesdd)), color=\"#5E3C99\", marker=true, msc=\"#666666\", alpha=.3, label=\"\")\n",
    "plot!(betas, log.(10, values(Δs_rel_gesvj)), color=\"#FDB863\", marker=true, msc=\"#666666\", alpha=.3, label=\"\")\n",
    "\n",
    "xlabel!(L\"inverse temperature $\\beta$\")\n",
    "ylabel!(L\"\\log(\\textrm{reldiff}(\\textrm{det}G, \\textrm{det}G_{\\textrm{exact}}))\")\n",
    "savefig(\"../paper/figures/accuracy_det_svd_regularinv.pdf\")"
   ]
  },
  {
   "cell_type": "markdown",
   "metadata": {},
   "source": [
    "## Loh et al inversion"
   ]
  },
  {
   "cell_type": "code",
   "execution_count": null,
   "metadata": {},
   "outputs": [],
   "source": [
    "Δs_abs_qr, Δs_abs_gesvd, Δs_abs_gesdd, Δs_abs_gesvj,\n",
    "Δs_rel_qr, Δs_rel_gesvd, Δs_rel_gesdd, Δs_rel_gesvj = accuracy_determinant(B0, svdinversion = svd_inv_one_plus_loh)\n",
    "betas = collect(keys(Δs_rel_qr))\n",
    "\n",
    "p = plot(betas, log.(10, values(Δs_rel_qr)), color=\"#E66101\", marker=true, label=\"QR\", legend=:right)\n",
    "plot!(betas, log.(10, values(Δs_rel_gesvd)), color=\"#008837\", marker=true, label=\"SVD\")\n",
    "plot!(betas, log.(10, values(Δs_rel_gesdd)), color=\"#5E3C99\", marker=true, label=\"SVD (D\\\\&C)\")\n",
    "plot!(betas, log.(10, values(Δs_rel_gesvj)), color=\"#FDB863\", marker=true, label=\"SVD (Jacobi)\")\n",
    "\n",
    "Δs_abs_qr, Δs_abs_gesvd, Δs_abs_gesdd, Δs_abs_gesvj,\n",
    "Δs_rel_qr, Δs_rel_gesvd, Δs_rel_gesdd, Δs_rel_gesvj = accuracy_determinant(B1, svdinversion = svd_inv_one_plus_loh)\n",
    "plot!(betas, log.(10, values(Δs_rel_qr)), color=\"#E66101\", marker=true, msc=\"#666666\", alpha=.3, label=\"\")\n",
    "plot!(betas, log.(10, values(Δs_rel_gesvd)), color=\"#008837\", marker=true, msc=\"#666666\", alpha=.3, label=\"\")\n",
    "plot!(betas, log.(10, values(Δs_rel_gesdd)), color=\"#5E3C99\", marker=true, msc=\"#666666\", alpha=.3, label=\"\")\n",
    "plot!(betas, log.(10, values(Δs_rel_gesvj)), color=\"#FDB863\", marker=true, msc=\"#666666\", alpha=.3, label=\"\")\n",
    "\n",
    "xlabel!(L\"inverse temperature $\\beta$\")\n",
    "ylabel!(L\"\\log(\\textrm{reldiff}(\\textrm{det}G, \\textrm{det}G_{\\textrm{exact}}))\")\n",
    "savefig(\"../paper/figures/accuracy_det_svd_loh.pdf\")"
   ]
  },
  {
   "cell_type": "markdown",
   "metadata": {},
   "source": [
    "# Performance: Matrix Decompositions"
   ]
  },
  {
   "cell_type": "code",
   "execution_count": null,
   "metadata": {},
   "outputs": [],
   "source": [
    "function benchmark_decomps(; evals=3)\n",
    "    Ns = Int.(range(100, 500, step=100))\n",
    "    df = DataFrame(N=Int[], qr=Float64[], gesdd=Float64[], gesvd=Float64[], gesvj=Float64[])\n",
    "\n",
    "    for N in Ns\n",
    "        x = rand(ComplexF64, N,N)\n",
    "        t_qr = @belapsed udt($x) evals=evals\n",
    "        t_gesdd = @belapsed gesdd($x) evals=evals\n",
    "        t_gesvd = @belapsed gesvd($x) evals=evals\n",
    "        t_gesvj = @belapsed gesvj($x) evals=1\n",
    "        push!(df, [N, t_qr, t_gesdd, t_gesvd, t_gesvj])\n",
    "    end\n",
    "    \n",
    "    return df\n",
    "end"
   ]
  },
  {
   "cell_type": "code",
   "execution_count": null,
   "metadata": {},
   "outputs": [],
   "source": [
    "df_decomps = benchmark_decomps()"
   ]
  },
  {
   "cell_type": "code",
   "execution_count": null,
   "metadata": {},
   "outputs": [],
   "source": [
    "@df df_decomps plot(:N, [:gesvd ./ :qr, :gesdd ./ :qr, :gesvj ./ :qr],\n",
    "            marker=true,\n",
    "            color=permutedims([\"#008837\", \"#5E3C99\", \"#FDB863\"]),\n",
    "            label=permutedims([\"SVD\", \"SVD (D\\\\&C)\", \"SVD (Jacobi)\"]),\n",
    "#             yscale=:log10\n",
    "            ylims=(0,29)\n",
    "           )\n",
    "@df df_decomps plot!(:N, fill(1, length(:N)), color=:grey, linestyle=:dash, label=\"QR\")\n",
    "xlabel!(L\"N of $N\\times N$ square matrix\")\n",
    "ylabel!(\"slowdown factor rel. to QR\")\n",
    "savefig(\"../paper/figures/benchmark_decomps.pdf\")"
   ]
  },
  {
   "cell_type": "markdown",
   "metadata": {},
   "source": [
    "# Performance: Calculate Greens"
   ]
  },
  {
   "cell_type": "markdown",
   "metadata": {},
   "source": [
    "## Regular inversion"
   ]
  },
  {
   "cell_type": "code",
   "execution_count": null,
   "metadata": {},
   "outputs": [],
   "source": [
    "function benchmark_inv_one_plus(; evals=3)\n",
    "    Ns = Int.(range(100, 500, step=100))\n",
    "    df = DataFrame(N=Int[], qr=Float64[], gesdd=Float64[], gesvd=Float64[], gesvj=Float64[])\n",
    "\n",
    "    for N in Ns\n",
    "        x = rand(ComplexF64, N,N)\n",
    "        u = udt(x)\n",
    "        s = svd(x)\n",
    "        \n",
    "        t_qr = @belapsed udt_inv_one_plus($u) evals=evals\n",
    "        t_gesdd = @belapsed svd_inv_one_plus($s, svdalg = $gesdd!) evals=evals\n",
    "        t_gesvd = @belapsed svd_inv_one_plus($s, svdalg = $gesvd!) evals=evals\n",
    "        t_gesvj = @belapsed svd_inv_one_plus($s, svdalg = $StableDQMC.gesvj!) evals=evals\n",
    "        push!(df, [N, t_qr, t_gesdd, t_gesvd, t_gesvj])\n",
    "    end\n",
    "    \n",
    "    return df\n",
    "end"
   ]
  },
  {
   "cell_type": "code",
   "execution_count": null,
   "metadata": {},
   "outputs": [],
   "source": [
    "df_greens = benchmark_inv_one_plus(evals=1)"
   ]
  },
  {
   "cell_type": "code",
   "execution_count": null,
   "metadata": {},
   "outputs": [],
   "source": [
    "@df df_greens plot(:N, [:gesvd ./ :qr, :gesdd ./ :qr, :gesvj ./ :qr],\n",
    "            marker=true,\n",
    "            color=permutedims([\"#008837\", \"#5E3C99\", \"#FDB863\"]), # #E66101 for QR\n",
    "            label=permutedims([\"SVD\", \"SVD (D\\\\&C)\", \"SVD (Jacobi)\"]),\n",
    "#             yscale=:log10\n",
    "#             ylims=(0,50)\n",
    "           )\n",
    "@df df_greens plot!(:N, fill(1, length(:N)), color=:grey, linestyle=:dash, label=\"QR\")\n",
    "xlabel!(L\"number of sites $N$\")\n",
    "ylabel!(\"slowdown factor rel. to QR\")\n",
    "savefig(\"../paper/figures/benchmark_fact_inv_one_plus.pdf\")"
   ]
  },
  {
   "cell_type": "markdown",
   "metadata": {},
   "source": [
    "## Loh et al inversion"
   ]
  },
  {
   "cell_type": "code",
   "execution_count": null,
   "metadata": {},
   "outputs": [],
   "source": [
    "function benchmark_inv_one_plus_loh(; evals=3)\n",
    "    Ns = Int.(range(100, 500, step=100))\n",
    "    df = DataFrame(N=Int[], qr=Float64[], gesdd=Float64[], gesvd=Float64[], gesvj=Float64[])\n",
    "\n",
    "    for N in Ns\n",
    "        x = rand(ComplexF64, N,N)\n",
    "        u = udt(x)\n",
    "        s = svd(x)\n",
    "        \n",
    "        t_qr = @belapsed udt_inv_one_plus_loh($u) evals=evals\n",
    "        t_gesdd = @belapsed svd_inv_one_plus_loh($s, svdalg = $gesdd!) evals=evals\n",
    "        t_gesvd = @belapsed svd_inv_one_plus_loh($s, svdalg = $gesvd!) evals=evals\n",
    "        t_gesvj = @belapsed svd_inv_one_plus_loh($s, svdalg = $StableDQMC.gesvj!) evals=evals\n",
    "        push!(df, [N, t_qr, t_gesdd, t_gesvd, t_gesvj])\n",
    "    end\n",
    "    \n",
    "    return df\n",
    "end"
   ]
  },
  {
   "cell_type": "code",
   "execution_count": null,
   "metadata": {},
   "outputs": [],
   "source": [
    "df_loh = benchmark_inv_one_plus_loh()"
   ]
  },
  {
   "cell_type": "code",
   "execution_count": null,
   "metadata": {},
   "outputs": [],
   "source": [
    "@df df_loh plot(:N, [:gesvd ./ :qr, :gesdd ./ :qr, :gesvj ./ :qr],\n",
    "            marker=true,\n",
    "            color=permutedims([\"#008837\", \"#5E3C99\", \"#FDB863\"]), # #E66101 for QR\n",
    "            label=permutedims([\"SVD\", \"SVD (D\\\\&C)\", \"SVD (Jacobi)\"]),\n",
    "#             yscale=:log10\n",
    "#             ylims=(0,50)\n",
    "           )\n",
    "@df df_loh plot!(:N, fill(1, length(:N)), color=:grey, linestyle=:dash, label=\"QR\")\n",
    "xlabel!(L\"number of sites $N$\")\n",
    "ylabel!(\"slowdown factor rel. to QR\")\n",
    "savefig(\"../paper/figures/benchmark_fact_inv_one_plus_loh.pdf\")"
   ]
  },
  {
   "cell_type": "markdown",
   "metadata": {},
   "source": [
    "# Accuracy: TDGF"
   ]
  },
  {
   "cell_type": "code",
   "execution_count": null,
   "metadata": {},
   "outputs": [],
   "source": [
    "# G(slice, 1) = [B(slice, 1)^-1 + B(beta, slice)]^-1\n",
    "function accuracy_tdgf(B; loh = false) \n",
    "    Bbig = BigFloat.(B)\n",
    "    \n",
    "#     betas = range(5, 40, step=5)\n",
    "    beta = 40\n",
    "    M = Int(beta * 10)\n",
    "    slices = 1:10:M\n",
    "\n",
    "    df = DataFrame(slice=Int[], qr=Float64[], gesdd=Float64[], gesvd=Float64[], gesvj=Float64[])\n",
    "    \n",
    "    inv_sum_method = loh ? inv_sum_loh : inv_sum\n",
    "    \n",
    "    for s in slices\n",
    "        local TDGF_genericsvd\n",
    "        setprecision(1000) do\n",
    "            TDGF_genericsvd = calc_tdgf_svd(Bbig, s, M-s, inv_sum_method = inv_sum_method, svdalg_chain = genericsvd, svdalg_inv = genericsvd!)\n",
    "        end\n",
    "        \n",
    "        TDGF_qr = calc_tdgf_qr(B, s, M-s, inv_sum_method = inv_sum_method)\n",
    "        TDGF_gesdd = calc_tdgf_svd(B, s, M-s, inv_sum_method = inv_sum_method, svdalg_chain = gesdd, svdalg_inv = gesdd!)\n",
    "        TDGF_gesvd = calc_tdgf_svd(B, s, M-s, inv_sum_method = inv_sum_method, svdalg_chain = gesvd, svdalg_inv = gesvd!)\n",
    "        TDGF_gesvj = calc_tdgf_svd(B, s, M-s, inv_sum_method = inv_sum_method, svdalg_chain = StableDQMC.gesvj, svdalg_inv = StableDQMC.gesvj!)\n",
    "        \n",
    "        Δ_qr    = maximum(abs, TDGF_qr - TDGF_genericsvd)\n",
    "        Δ_gesdd = maximum(abs, TDGF_gesdd - TDGF_genericsvd)\n",
    "        Δ_gesvd = maximum(abs, TDGF_gesvd - TDGF_genericsvd)\n",
    "        Δ_gesvj = maximum(abs, TDGF_gesvj - TDGF_genericsvd)\n",
    "        \n",
    "        push!(df, [s, Δ_qr, Δ_gesdd, Δ_gesvd, Δ_gesvj])\n",
    "    end\n",
    "\n",
    "    return df\n",
    "end"
   ]
  },
  {
   "cell_type": "markdown",
   "metadata": {},
   "source": [
    "## Regular inversion, $U=0$"
   ]
  },
  {
   "cell_type": "code",
   "execution_count": null,
   "metadata": {},
   "outputs": [],
   "source": [
    "df_tdgf0 = accuracy_tdgf(B0; loh = false);"
   ]
  },
  {
   "cell_type": "code",
   "execution_count": null,
   "metadata": {},
   "outputs": [],
   "source": [
    "@df df_tdgf0 plot(:slice .* 0.1, (x -> log.(10, x)).([:qr, :gesvd, :gesdd, :gesvj]),\n",
    "            marker=true,\n",
    "            color=permutedims([\"#E66101\", \"#008837\", \"#5E3C99\", \"#FDB863\"]), # #E66101 for QR\n",
    "            label=permutedims([\"QR\", \"SVD\", \"SVD (D\\\\&C)\", \"SVD (Jacobi)\"]),\n",
    "#             xlims=(0,10)\n",
    "           )\n",
    "# @df df_tdgf4 plot!(:slice .* 0.1, (x -> log.(10, x)).([:qr, :gesvd, :gesdd, :gesvj]),\n",
    "#             marker=true,\n",
    "#             color=permutedims([\"#E66101\", \"#008837\", \"#5E3C99\", \"#FDB863\"]), # #E66101 for QR\n",
    "#             alpha=permutedims([.2, .2, .2, .2]), # #E66101 for QR\n",
    "#             msc=\"#666666\",\n",
    "#             label=permutedims([\"\", \"\", \"\", \"\"]),\n",
    "# #             xlims=(0,10)\n",
    "#            )\n",
    "xlabel!(L\"imaginary time $\\tau$\")\n",
    "ylabel!(L\"\\log(\\textrm{max}(\\textrm{abs}(G(\\tau, 0) - G_{\\textrm{exact}}(\\tau, 0))))\")\n",
    "savefig(\"../paper/figures/accuracy_tdgf_U0.pdf\")"
   ]
  },
  {
   "cell_type": "markdown",
   "metadata": {},
   "source": [
    "## Regular inversion, $U=4$"
   ]
  },
  {
   "cell_type": "code",
   "execution_count": null,
   "metadata": {},
   "outputs": [],
   "source": [
    "df_tdgf4 = accuracy_tdgf(B4; loh = false);"
   ]
  },
  {
   "cell_type": "code",
   "execution_count": null,
   "metadata": {},
   "outputs": [],
   "source": [
    "@df df_tdgf4 plot(:slice .* 0.1, (x -> log.(10, x)).([:qr, :gesvd, :gesdd, :gesvj]),\n",
    "            marker=true,\n",
    "            color=permutedims([\"#E66101\", \"#008837\", \"#5E3C99\", \"#FDB863\"]), # #E66101 for QR\n",
    "            label=permutedims([\"QR\", \"SVD\", \"SVD (D\\\\&C)\", \"SVD (Jacobi)\"]),\n",
    "#             xlims=(0,10)\n",
    "           )\n",
    "xlabel!(L\"imaginary time $\\tau$\")\n",
    "ylabel!(L\"\\log(\\textrm{max}(\\textrm{abs}(G(\\tau, 0) - G_{\\textrm{exact}}(\\tau, 0))))\")\n",
    "savefig(\"../paper/figures/accuracy_tdgf_U4.pdf\")"
   ]
  },
  {
   "cell_type": "markdown",
   "metadata": {},
   "source": [
    "## Loh et al inversion, $U=0$"
   ]
  },
  {
   "cell_type": "code",
   "execution_count": null,
   "metadata": {},
   "outputs": [],
   "source": [
    "df_tdgf_loh0 = accuracy_tdgf(B0; loh = true);"
   ]
  },
  {
   "cell_type": "code",
   "execution_count": null,
   "metadata": {},
   "outputs": [],
   "source": [
    "@df df_tdgf_loh0 plot(:slice .* 0.1, (x -> log.(10, x)).([:qr, :gesvd, :gesdd, :gesvj]),\n",
    "            marker=true,\n",
    "            color=permutedims([\"#E66101\", \"#008837\", \"#5E3C99\", \"#FDB863\"]), # #E66101 for QR\n",
    "            label=permutedims([\"QR\", \"SVD\", \"SVD (D\\\\&C)\", \"SVD (Jacobi)\"]),\n",
    "#             xlims=(0,10)\n",
    "           )\n",
    "# @df df_tdgf_loh4 plot!(:slice .* 0.1, (x -> log.(10, x)).([:qr, :gesvd, :gesdd, :gesvj]),\n",
    "#             marker=true,\n",
    "#             color=permutedims([\"#E66101\", \"#008837\", \"#5E3C99\", \"#FDB863\"]), # #E66101 for QR\n",
    "#             alpha=permutedims([.3, .3, .3, .3]), # #E66101 for QR\n",
    "#             msc=\"#666666\",\n",
    "#             label=permutedims([\"\", \"\", \"\", \"\"]),\n",
    "# #             xlims=(0,10)\n",
    "#            )\n",
    "xlabel!(L\"imaginary time $\\tau$\")\n",
    "ylabel!(L\"\\log(\\textrm{max}(\\textrm{abs}(G(\\tau, 0) - G_{\\textrm{exact}}(\\tau, 0))))\")\n",
    "savefig(\"../paper/figures/accuracy_tdgf_loh_U0.pdf\")"
   ]
  },
  {
   "cell_type": "markdown",
   "metadata": {},
   "source": [
    "## Loh et al inversion, $U=4$"
   ]
  },
  {
   "cell_type": "code",
   "execution_count": null,
   "metadata": {},
   "outputs": [],
   "source": [
    "df_tdgf_loh4 = accuracy_tdgf(B4; loh = true);"
   ]
  },
  {
   "cell_type": "code",
   "execution_count": null,
   "metadata": {},
   "outputs": [],
   "source": [
    "@df df_tdgf_loh4 plot(:slice .* 0.1, (x -> log.(10, x)).([:qr, :gesvd, :gesdd, :gesvj]),\n",
    "            marker=true,\n",
    "            color=permutedims([\"#E66101\", \"#008837\", \"#5E3C99\", \"#FDB863\"]), # #E66101 for QR\n",
    "            label=permutedims([\"QR\", \"SVD\", \"SVD (D\\\\&C)\", \"SVD (Jacobi)\"]),\n",
    "#             xlims=(0,10)\n",
    "           )\n",
    "xlabel!(L\"imaginary time $\\tau$\")\n",
    "ylabel!(L\"\\log(\\textrm{max}(\\textrm{abs}(G(\\tau, 0) - G_{\\textrm{exact}}(\\tau, 0))))\")\n",
    "savefig(\"../paper/figures/accuracy_tdgf_loh_U4.pdf\")"
   ]
  },
  {
   "cell_type": "markdown",
   "metadata": {},
   "source": [
    "# Performance: Jacobi + Regular vs QR/UDT + Loh"
   ]
  },
  {
   "cell_type": "markdown",
   "metadata": {},
   "source": [
    "## Equal-times GF"
   ]
  },
  {
   "cell_type": "code",
   "execution_count": null,
   "metadata": {},
   "outputs": [],
   "source": [
    "function benchmark_jacobi_vs_qr(; evals=3)\n",
    "    Ns = Int.(range(100, 500, step=100))\n",
    "    df = DataFrame(N=Int[], qr=Float64[], gesvj=Float64[])\n",
    "\n",
    "    for N in Ns\n",
    "        x = rand(ComplexF64, N,N)\n",
    "        u = udt(x)\n",
    "        s = svd(x)\n",
    "        \n",
    "        t_qr = @belapsed udt_inv_one_plus_loh($u) evals=evals\n",
    "        t_gesvj = @belapsed svd_inv_one_plus($s, svdalg = $StableDQMC.gesvj!) evals=evals\n",
    "        push!(df, [N, t_qr, t_gesvj])\n",
    "    end\n",
    "    \n",
    "    return df\n",
    "end"
   ]
  },
  {
   "cell_type": "code",
   "execution_count": null,
   "metadata": {},
   "outputs": [],
   "source": [
    "df_vs = benchmark_jacobi_vs_qr();"
   ]
  },
  {
   "cell_type": "code",
   "execution_count": null,
   "metadata": {},
   "outputs": [],
   "source": [
    "df_vs"
   ]
  },
  {
   "cell_type": "code",
   "execution_count": null,
   "metadata": {},
   "outputs": [],
   "source": [
    "@df df_vs plot(:N, [:gesvj ./ :qr],\n",
    "            marker=true,\n",
    "            color=permutedims([\"#FDB863\"]), # #E66101 for QR, \"#008837\", \"#5E3C99\", \n",
    "            label=permutedims([\"SVD (Jacobi)\"]),\n",
    "#             yscale=:log10\n",
    "#             ylims=(0,50)\n",
    "           )\n",
    "@df df_vs plot!(:N, fill(1, length(:N)), color=:grey, linestyle=:dash, label=\"QR\")\n",
    "xlabel!(L\"number of sites $N$\")\n",
    "ylabel!(\"slowdown factor rel. to QR\")\n",
    "# savefig(\"../paper/figures/benchmark_jacobi_vs_qr.pdf\")"
   ]
  },
  {
   "cell_type": "code",
   "execution_count": null,
   "metadata": {},
   "outputs": [],
   "source": [
    "@df df_vs plot(:N, [:qr, :gesvj],\n",
    "            marker=true,\n",
    "            color=permutedims([\"#E66101\", \"#FDB863\"]),\n",
    "            label=permutedims([\"QR\", \"SVD (Jacobi)\"]),\n",
    "#             yscale=:log10\n",
    "#             ylims=(0,50)\n",
    "           )\n",
    "xlabel!(L\"number of sites $N$\")\n",
    "ylabel!(\"computation time\")\n",
    "\n",
    "# inset\n",
    "@df df_vs plot!(:N, [:gesvj ./ :qr],\n",
    "            inset=(1, bbox(0.14,-0.06,0.3,0.3,:center,:left)),\n",
    "            marker=true,\n",
    "            color=permutedims([\"#FDB863\"]), # #E66101 for QR, \"#008837\", \"#5E3C99\", \n",
    "            label=permutedims([nothing]),\n",
    "            subplot=2,\n",
    "#             xlab=L\"number of sites $N$\",\n",
    "            ylab=\"rel. to QR\",\n",
    "            grid=false,\n",
    "            frame=:box,\n",
    "            ylim=(1,8),\n",
    "            guidefont=font(10),\n",
    "            xtickfont=font(10), \n",
    "            ytickfont=font(10), \n",
    "            legendfont=font(9),\n",
    "            yticks=[2,4,6,8]\n",
    "           )\n",
    "savefig(\"../paper/figures/benchmark_jacobi_vs_qr.pdf\")"
   ]
  },
  {
   "cell_type": "markdown",
   "metadata": {},
   "source": [
    "## TDGF"
   ]
  },
  {
   "cell_type": "code",
   "execution_count": null,
   "metadata": {},
   "outputs": [],
   "source": [
    "# G(slice, 1) = [B(slice, 1)^-1 + B(beta, slice)]^-1\n",
    "function benchmark_jacobi_vs_qr_tdgf(; evals=3)\n",
    "#     Ns = ceil.(Int, range(10, 500, length=30) ./ 2) .* 2 # only even N\n",
    "    Ns = floor.(Int, exp10.(range(log10(5), log10(500), length=40)))\n",
    "    # Ns = floor.(Int, exp10.(range(log10(5), log10(100), length=20)))\n",
    "    beta = 40\n",
    "    M = Int(beta * 10)\n",
    "    beta_half = Int(M/2) # long imag times\n",
    "\n",
    "    df = DataFrame(N=Int[], qr=Float64[], gesvj=Float64[])\n",
    "    \n",
    "    for N in Ns\n",
    "        try\n",
    "            B = rand(ComplexF64, N, N)\n",
    "            t_qr = @belapsed calc_tdgf_qr($B, $beta_half, $beta_half, inv_sum_method = $inv_sum_loh) evals=evals\n",
    "            t_gesvj = @belapsed calc_tdgf_svd($B, $beta_half, $beta_half, inv_sum_method = $inv_sum, svdalg_chain = $(StableDQMC.gesvj), svdalg_inv = $(StableDQMC.gesvj!)) evals=evals\n",
    "\n",
    "            push!(df, [N, t_qr, t_gesvj])\n",
    "        catch emsg\n",
    "            @warn \"Encountered problem for N=$N.\"\n",
    "        end\n",
    "    end\n",
    "\n",
    "    return df\n",
    "end"
   ]
  },
  {
   "cell_type": "code",
   "execution_count": null,
   "metadata": {},
   "outputs": [],
   "source": [
    "df_vs_tdgf = benchmark_jacobi_vs_qr_tdgf()"
   ]
  },
  {
   "cell_type": "code",
   "execution_count": null,
   "metadata": {},
   "outputs": [],
   "source": [
    "@save \"benchmark_jacobi_vs_qr_tdgf.bson\" df_vs_tdgf"
   ]
  },
  {
   "cell_type": "code",
   "execution_count": 33,
   "metadata": {},
   "outputs": [
    {
     "name": "stderr",
     "output_type": "stream",
     "text": [
      "┌ Warning: Due to a previously reported error, the running code does not match saved version for the following files:\n",
      "│ \n",
      "│   C:\\Users\\carsten\\.julia\\packages\\GeometryTypes\\TVYMV\\src\\slice.jl\n",
      "│   C:\\Users\\carsten\\.julia\\packages\\GeometryTypes\\TVYMV\\src\\deprecated.jl\n",
      "│ \n",
      "│ Use Revise.errors() to report errors again.\n",
      "└ @ Revise C:\\Users\\carsten\\.julia\\packages\\Revise\\ZOWOa\\src\\Revise.jl:639\n"
     ]
    },
    {
     "data": {
      "image/png": "[encoded data removed]"
     },
     "execution_count": 33,
     "metadata": {},
     "output_type": "execute_result"
    }
   ],
   "source": [
    "@load \"benchmark_jacobi_vs_qr_tdgf.bson\" df_vs_tdgf\n",
    "\n",
    "@df df_vs_tdgf plot(:N, [:qr, :gesvj],\n",
    "            marker=true,\n",
    "            color=permutedims([\"#E66101\", \"#FDB863\"]),\n",
    "            label=permutedims([\"QR\", \"SVD (Jacobi)\"]),\n",
    "#             yscale=:log10\n",
    "#             ylims=(0,50)\n",
    "           )\n",
    "xlabel!(L\"number of sites $N$\")\n",
    "ylabel!(\"computation time\")\n",
    "\n",
    "# inset\n",
    "@df df_vs_tdgf plot!(:N, [:gesvj ./ :qr],\n",
    "            inset=(1, bbox(0.14,-0.06,0.3,0.3,:center,:left)),\n",
    "            marker=true,\n",
    "            color=permutedims([\"#FDB863\"]), # #E66101 for QR, \"#008837\", \"#5E3C99\", \n",
    "            label=permutedims([nothing]),\n",
    "            subplot=2,\n",
    "#             xlab=L\"number of sites $N$\",\n",
    "            ylab=\"rel. to QR\",\n",
    "#             scale=:log10,\n",
    "            grid=false,\n",
    "            frame=:box,\n",
    "            ylim=(1,10),\n",
    "            guidefont=font(10),\n",
    "            xtickfont=font(10), \n",
    "            ytickfont=font(10), \n",
    "            legendfont=font(9),\n",
    "            yticks=[2,4,6,8,10],\n",
    "           )\n",
    "savefig(\"../paper/figures/benchmark_jacobi_vs_qr_tdgf.pdf\")"
   ]
  },
  {
   "cell_type": "code",
   "execution_count": null,
   "metadata": {},
   "outputs": [],
   "source": []
  }
 ],
 "metadata": {
  "@webio": {
   "lastCommId": null,
   "lastKernelId": null
  },
  "kernelspec": {
   "display_name": "Julia 1.3.1",
   "language": "julia",
   "name": "julia-1.3"
  },
  "language_info": {
   "file_extension": ".jl",
   "mimetype": "application/julia",
   "name": "julia",
   "version": "1.3.1"
  }
 },
 "nbformat": 4,
 "nbformat_minor": 4
}

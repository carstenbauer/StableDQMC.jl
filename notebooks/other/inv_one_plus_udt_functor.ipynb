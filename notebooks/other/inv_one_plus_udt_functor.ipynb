{
 "cells": [
  {
   "cell_type": "code",
   "execution_count": 6,
   "metadata": {},
   "outputs": [],
   "source": [
    "using BenchmarkTools, LinearAlgebra"
   ]
  },
  {
   "cell_type": "code",
   "execution_count": 7,
   "metadata": {},
   "outputs": [
    {
     "data": {
      "text/plain": [
       "decompose_udt! (generic function with 1 method)"
      ]
     },
     "execution_count": 7,
     "metadata": {},
     "output_type": "execute_result"
    }
   ],
   "source": [
    "#### QR, i.e. UDT decomposition\n",
    "function decompose_udt(A::AbstractMatrix{C}) where C<:Number\n",
    "  F = qr(A, Val(true))\n",
    "  p = F.p\n",
    "  @views p[p] = collect(1:length(p))\n",
    "  # D = abs.(real(diag(triu(R))))\n",
    "  D = abs.(real(diag(F.R)))\n",
    "  T = (Diagonal(1 ./ D) * F.R)[:, p]\n",
    "  return Matrix(F.Q), D, T\n",
    "end\n",
    "\n",
    "function decompose_udt!(A::AbstractMatrix{C}, D) where C<:Number\n",
    "  n = length(D)\n",
    "  F = qr!(A, Val(true))\n",
    "  R = F.R # F.R is of regular matrix type\n",
    "\n",
    "  @views F.p[F.p] = 1:n\n",
    "\n",
    "  @inbounds for i in 1:n\n",
    "    D[i] = abs(real(R[i,i]))\n",
    "  end\n",
    "\n",
    "  # This (very!) strangely increases the runtime of measure_tdgfs! by a ton....\n",
    "  # @inbounds for i in diagind(R)\n",
    "  #   R[i] = sign(real(R[i]))\n",
    "  # end\n",
    "\n",
    "  lmul!(Diagonal(1 ./ D), R)\n",
    "\n",
    "  return Matrix(F.Q), R[:, F.p] # Q, (D is modified in-place), T  # was full(F.Q) before upgrade\n",
    "end"
   ]
  },
  {
   "cell_type": "code",
   "execution_count": 8,
   "metadata": {},
   "outputs": [
    {
     "name": "stderr",
     "output_type": "stream",
     "text": [
      "WARNING: redefining constant X\n"
     ]
    }
   ],
   "source": [
    "const X = rand(10,10);\n",
    "U, D, T = decompose_udt(X);\n",
    "tmpD = similar(D);\n",
    "tmpU1 = similar(U);\n",
    "tmpU2 = similar(U);"
   ]
  },
  {
   "cell_type": "code",
   "execution_count": 18,
   "metadata": {},
   "outputs": [
    {
     "data": {
      "text/plain": [
       "inv_one_plus_udt_preallocated"
      ]
     },
     "execution_count": 18,
     "metadata": {},
     "output_type": "execute_result"
    }
   ],
   "source": [
    "\"\"\"\n",
    "\n",
    "  inv_one_plus_udt(U, D, T) -> result\n",
    "\n",
    "Stable calculation of [1 + UDT]^(-1):\n",
    "\n",
    "  * Use one intermediate UDT decomposition.\n",
    "\n",
    "Faster but less accurate than the loh approach.\n",
    "\n",
    "Consider `inv_one_plus_udt!` as an efficient (not one-to-one) replacement.\n",
    "\"\"\"\n",
    "function inv_one_plus_udt(U,D,T)\n",
    "#   @warn \"Calling somewhat inefficient and potentially inaccurate `inv_one_plus_udt`\"\n",
    "\n",
    "  m = U' / T\n",
    "  m[diagind(m)] .+= D\n",
    "  u,d,t = decompose_udt(m)\n",
    "  u = U * u\n",
    "  t = t * T\n",
    "  ldiv!(m, lu!(t), Diagonal(1 ./ d))\n",
    "  m * u'\n",
    "end\n",
    "\n",
    "\n",
    "\n",
    "\n",
    "\n",
    "\n",
    "\"\"\"\n",
    "\n",
    "  inv_one_plus_udt!(mc, res, U, D, T) -> nothing\n",
    "\n",
    "Stable calculation of [1 + UDT]^(-1):\n",
    "\n",
    "  * Use one intermediate UDT decomposition.\n",
    "\n",
    "Uses preallocated memory in `mc`. Writes the result into `res`.\n",
    "\n",
    "Much faster (~50%) than `inv_one_plus_udt_loh!` but less accurate.\n",
    "\"\"\"\n",
    "function inv_one_plus_udt_preallocated(U,D,T, d, u, t)\n",
    "#   @warn \"Calling potentially inaccurate `inv_one_plus_udt!`\"\n",
    "  m = U' / T\n",
    "  m[diagind(m)] .+= D\n",
    "\n",
    "  utmp,ttmp = decompose_udt!(m, d)\n",
    "  mul!(u, U, utmp)\n",
    "  mul!(t, ttmp, T)\n",
    "    \n",
    "  ldiv!(m, lu!(t), Diagonal(1 ./ d))\n",
    "    \n",
    "  return m * u'\n",
    "end"
   ]
  },
  {
   "cell_type": "code",
   "execution_count": 19,
   "metadata": {},
   "outputs": [
    {
     "name": "stdout",
     "output_type": "stream",
     "text": [
      "  35.600 μs (41 allocations: 50.91 KiB)\n",
      "  34.600 μs (33 allocations: 46.06 KiB)\n"
     ]
    }
   ],
   "source": [
    "@btime inv_one_plus_udt($U, $D, $T);\n",
    "@btime inv_one_plus_udt_preallocated($U, $D, $T, $tmpD, $tmpU1, $tmpU2);"
   ]
  },
  {
   "cell_type": "code",
   "execution_count": 9,
   "metadata": {},
   "outputs": [
    {
     "ename": "ErrorException",
     "evalue": "invalid redefinition of constant inv_one_plus_udt_functor",
     "output_type": "error",
     "traceback": [
      "invalid redefinition of constant inv_one_plus_udt_functor",
      "",
      "Stacktrace:",
      " [1] top-level scope at none:0"
     ]
    }
   ],
   "source": [
    "struct inv_one_plus_udt_functor{D<:AbstractVector{<:Real}, U<:AbstractMatrix}\n",
    "    tmpD::D\n",
    "    tmpU1::U\n",
    "    tmpU2::U\n",
    "end"
   ]
  },
  {
   "cell_type": "code",
   "execution_count": 20,
   "metadata": {},
   "outputs": [],
   "source": [
    "function (f::inv_one_plus_udt_functor)(U, D, T)\n",
    "    inv_one_plus_udt_preallocated(U, D, T, f.tmpD, f.tmpU1, f.tmpU2)\n",
    "end"
   ]
  },
  {
   "cell_type": "code",
   "execution_count": 21,
   "metadata": {},
   "outputs": [
    {
     "data": {
      "text/plain": [
       "inv_one_plus_udt_functor{Array{Float64,1},Array{Float64,2}}"
      ]
     },
     "execution_count": 21,
     "metadata": {},
     "output_type": "execute_result"
    }
   ],
   "source": [
    "f = inv_one_plus_udt_functor(tmpD, tmpU1, tmpU2);\n",
    "typeof(f)"
   ]
  },
  {
   "cell_type": "code",
   "execution_count": 22,
   "metadata": {},
   "outputs": [
    {
     "data": {
      "text/plain": [
       "10×10 Array{Float64,2}:\n",
       "  0.66706      0.0826716   0.123307  …  -0.329718    0.149039    0.015834  \n",
       " -0.157469     0.707085    0.373679     -0.157718    0.211471    0.00370892\n",
       "  0.0347695   -0.890985    1.42732       0.39504    -0.753529    0.576347  \n",
       " -0.0519695    0.782845   -0.349997     -0.362364    0.44376    -0.105318  \n",
       " -0.12954     -0.316583    0.171504      0.0927722  -0.219818    0.3127    \n",
       " -0.0697467   -0.121193   -0.41672   …   0.147586   -0.33785    -0.38575   \n",
       "  0.4699      -1.03179     0.261533     -0.599686   -0.122059    0.298605  \n",
       " -0.6367       0.797497   -0.981257      1.30038    -0.0914739  -0.825313  \n",
       " -0.00577522  -0.205844   -0.388198     -0.0473768   0.567224   -0.389856  \n",
       "  0.14235     -0.200328    0.385908     -0.302282   -0.0384837   0.987121  "
      ]
     },
     "execution_count": 22,
     "metadata": {},
     "output_type": "execute_result"
    }
   ],
   "source": [
    "f(U, D, T)"
   ]
  },
  {
   "cell_type": "code",
   "execution_count": 23,
   "metadata": {},
   "outputs": [
    {
     "name": "stdout",
     "output_type": "stream",
     "text": [
      "  34.600 μs (33 allocations: 46.06 KiB)\n"
     ]
    }
   ],
   "source": [
    "@btime f($U,$D,$T);"
   ]
  },
  {
   "cell_type": "code",
   "execution_count": 24,
   "metadata": {},
   "outputs": [
    {
     "data": {
      "text/plain": [
       "use_functor_but_reallocate (generic function with 1 method)"
      ]
     },
     "execution_count": 24,
     "metadata": {},
     "output_type": "execute_result"
    }
   ],
   "source": [
    "function use_functor_but_reallocate(U,D,T)\n",
    "    f = inv_one_plus_udt_functor(similar(D), similar(U), similar(U));\n",
    "    f(U,D,T)\n",
    "end"
   ]
  },
  {
   "cell_type": "code",
   "execution_count": 28,
   "metadata": {},
   "outputs": [
    {
     "name": "stdout",
     "output_type": "stream",
     "text": [
      "  35.301 μs (36 allocations: 47.97 KiB)\n"
     ]
    }
   ],
   "source": [
    "@btime use_functor_but_reallocate($U,$D,$T);"
   ]
  },
  {
   "cell_type": "markdown",
   "metadata": {},
   "source": [
    "# Benchmark all"
   ]
  },
  {
   "cell_type": "code",
   "execution_count": 29,
   "metadata": {},
   "outputs": [
    {
     "name": "stdout",
     "output_type": "stream",
     "text": [
      "  35.300 μs (41 allocations: 50.91 KiB)\n",
      "  34.501 μs (33 allocations: 46.06 KiB)\n",
      "  33.601 μs (33 allocations: 46.06 KiB)\n",
      "  34.501 μs (36 allocations: 47.97 KiB)\n"
     ]
    }
   ],
   "source": [
    "@btime inv_one_plus_udt($U, $D, $T);\n",
    "@btime inv_one_plus_udt_preallocated($U, $D, $T, $tmpD, $tmpU1, $tmpU2);\n",
    "@btime f($U,$D,$T);\n",
    "@btime use_functor_but_reallocate($U,$D,$T);"
   ]
  },
  {
   "cell_type": "code",
   "execution_count": 30,
   "metadata": {},
   "outputs": [
    {
     "name": "stdout",
     "output_type": "stream",
     "text": [
      "  34.600 μs (41 allocations: 50.91 KiB)\n",
      "  34.700 μs (33 allocations: 46.06 KiB)\n",
      "  35.000 μs (33 allocations: 46.06 KiB)\n",
      "  33.900 μs (36 allocations: 47.97 KiB)\n"
     ]
    }
   ],
   "source": [
    "@btime inv_one_plus_udt($U, $D, $T);\n",
    "@btime inv_one_plus_udt_preallocated($U, $D, $T, $tmpD, $tmpU1, $tmpU2);\n",
    "@btime f($U,$D,$T);\n",
    "@btime use_functor_but_reallocate($U,$D,$T);"
   ]
  },
  {
   "cell_type": "code",
   "execution_count": null,
   "metadata": {},
   "outputs": [],
   "source": []
  }
 ],
 "metadata": {
  "@webio": {
   "lastCommId": null,
   "lastKernelId": null
  },
  "kernelspec": {
   "display_name": "Julia 1.1.0",
   "language": "julia",
   "name": "julia-1.1"
  },
  "language_info": {
   "file_extension": ".jl",
   "mimetype": "application/julia",
   "name": "julia",
   "version": "1.1.0"
  }
 },
 "nbformat": 4,
 "nbformat_minor": 2
}

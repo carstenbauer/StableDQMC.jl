{
 "cells": [
  {
   "cell_type": "markdown",
   "metadata": {},
   "source": [
    "# Visualization: Calculating with scales"
   ]
  },
  {
   "cell_type": "code",
   "execution_count": 1,
   "metadata": {},
   "outputs": [
    {
     "name": "stdout",
     "output_type": "stream",
     "text": [
      "\u001b[32m\u001b[1mActivating\u001b[22m\u001b[39m environment at `C:\\Users\\carsten\\.julia\\dev\\StableDQMC.jl\\notebooks\\scales_visualizations\\Project.toml`\n"
     ]
    }
   ],
   "source": [
    "] activate ."
   ]
  },
  {
   "cell_type": "markdown",
   "metadata": {},
   "source": [
    "## Using `String` and `Char` (type piracy)"
   ]
  },
  {
   "cell_type": "code",
   "execution_count": 2,
   "metadata": {},
   "outputs": [],
   "source": [
    "using Latexify"
   ]
  },
  {
   "cell_type": "code",
   "execution_count": 155,
   "metadata": {},
   "outputs": [
    {
     "data": {
      "text/plain": [
       "('t', 's', 'M', 'L')"
      ]
     },
     "execution_count": 155,
     "metadata": {},
     "output_type": "execute_result"
    }
   ],
   "source": [
    "# const small, medium, large = 'ₓ', 'x', 'X'\n",
    "const tiny, small, medium, large = 't','s', 'M', 'L'\n",
    "# const small, medium, large = '🞄', '●', '⬤'\n",
    "# const small, medium, large = '▪', '■', '⬛'"
   ]
  },
  {
   "cell_type": "code",
   "execution_count": 157,
   "metadata": {},
   "outputs": [
    {
     "name": "stderr",
     "output_type": "stream",
     "text": [
      "WARNING: redefining constant scale2value\n"
     ]
    },
    {
     "data": {
      "text/plain": [
       "Dict{Char,Int64} with 4 entries:\n",
       "  'M' => 3\n",
       "  'L' => 4\n",
       "  's' => 2\n",
       "  't' => 1"
      ]
     },
     "execution_count": 157,
     "metadata": {},
     "output_type": "execute_result"
    }
   ],
   "source": [
    "const scale2value = Dict(tiny => 1, small => 2, medium => 3, large => 4)"
   ]
  },
  {
   "cell_type": "code",
   "execution_count": 158,
   "metadata": {},
   "outputs": [],
   "source": [
    "Base.zero(::Type{String}) = \" \"\n",
    "Base.zero(::String) = zero(String)\n",
    "\n",
    "Base.zero(::Type{Char}) = ' '\n",
    "Base.zero(::Char) = zero(Char)\n",
    "\n",
    "function Base.:+(x::String, y::String)\n",
    "    if occursin(zero(String), x)\n",
    "        if occursin(zero(String), y)\n",
    "            return zero(String)\n",
    "        else\n",
    "            return y\n",
    "        end\n",
    "    elseif occursin(zero(String), y)\n",
    "        return x\n",
    "    else\n",
    "       return sum(scale2value[c] for c in x) < sum(Int.(collect(y))) ? y : x #mean(x) < mean(y) ? y : x \n",
    "    end\n",
    "end\n",
    "\n",
    "function Base.:+(x::Char, y::Char)\n",
    "    if x == zero(Char)\n",
    "        if y == zero(Char)\n",
    "            return zero(Char)\n",
    "        else\n",
    "            return y\n",
    "        end\n",
    "    elseif y == zero(Char)\n",
    "        return x\n",
    "    else\n",
    "       return scale2value[x] > scale2value[y] ? x : y\n",
    "    end\n",
    "end"
   ]
  },
  {
   "cell_type": "code",
   "execution_count": 159,
   "metadata": {},
   "outputs": [
    {
     "data": {
      "text/plain": [
       "3×3 Array{Char,2}:\n",
       " 'L'  ' '  ' '\n",
       " ' '  'M'  ' '\n",
       " ' '  ' '  's'"
      ]
     },
     "execution_count": 159,
     "metadata": {},
     "output_type": "execute_result"
    }
   ],
   "source": [
    "using LinearAlgebra\n",
    "D = diagm(0 => [large, medium, small])"
   ]
  },
  {
   "cell_type": "code",
   "execution_count": 160,
   "metadata": {},
   "outputs": [],
   "source": [
    "set_default(convert_unicode = false)"
   ]
  },
  {
   "cell_type": "code",
   "execution_count": 161,
   "metadata": {},
   "outputs": [
    {
     "data": {
      "text/latex": [
       "\\begin{equation}\n",
       "\\left[\n",
       "\\begin{array}{ccc}\n",
       "L &   &   \\\\\n",
       "  & M &   \\\\\n",
       "  &   & s \\\\\n",
       "\\end{array}\n",
       "\\right]\n",
       "\\end{equation}\n"
      ],
      "text/plain": [
       "L\"\\begin{equation}\n",
       "\\left[\n",
       "\\begin{array}{ccc}\n",
       "L &   &   \\\\\n",
       "  & M &   \\\\\n",
       "  &   & s \\\\\n",
       "\\end{array}\n",
       "\\right]\n",
       "\\end{equation}\n",
       "\""
      ]
     },
     "execution_count": 161,
     "metadata": {},
     "output_type": "execute_result"
    }
   ],
   "source": [
    "D |> latexify"
   ]
  },
  {
   "cell_type": "code",
   "execution_count": 162,
   "metadata": {},
   "outputs": [
    {
     "data": {
      "text/latex": [
       "\\begin{equation}\n",
       "\\left[\n",
       "\\begin{array}{c}\n",
       "LL \\\\\n",
       "MM \\\\\n",
       "ss \\\\\n",
       "\\end{array}\n",
       "\\right]\n",
       "\\end{equation}\n"
      ],
      "text/plain": [
       "L\"\\begin{equation}\n",
       "\\left[\n",
       "\\begin{array}{c}\n",
       "LL \\\\\n",
       "MM \\\\\n",
       "ss \\\\\n",
       "\\end{array}\n",
       "\\right]\n",
       "\\end{equation}\n",
       "\""
      ]
     },
     "execution_count": 162,
     "metadata": {},
     "output_type": "execute_result"
    }
   ],
   "source": [
    "D * [large, medium, small] |> latexify"
   ]
  },
  {
   "cell_type": "code",
   "execution_count": 163,
   "metadata": {},
   "outputs": [
    {
     "data": {
      "text/latex": [
       "\\begin{equation}\n",
       "\\left[\n",
       "\\begin{array}{c}\n",
       "Ls \\\\\n",
       "Ms \\\\\n",
       "ss \\\\\n",
       "\\end{array}\n",
       "\\right]\n",
       "\\end{equation}\n"
      ],
      "text/plain": [
       "L\"\\begin{equation}\n",
       "\\left[\n",
       "\\begin{array}{c}\n",
       "Ls \\\\\n",
       "Ms \\\\\n",
       "ss \\\\\n",
       "\\end{array}\n",
       "\\right]\n",
       "\\end{equation}\n",
       "\""
      ]
     },
     "execution_count": 163,
     "metadata": {},
     "output_type": "execute_result"
    }
   ],
   "source": [
    "D * [small, small, small] |> latexify"
   ]
  },
  {
   "cell_type": "code",
   "execution_count": 164,
   "metadata": {},
   "outputs": [
    {
     "data": {
      "text/latex": [
       "\\begin{equation}\n",
       "\\left[\n",
       "\\begin{array}{ccc}\n",
       "  &   &   \\\\\n",
       "  &   &   \\\\\n",
       "  &   &   \\\\\n",
       "\\end{array}\n",
       "\\right]\n",
       "\\end{equation}\n"
      ],
      "text/plain": [
       "L\"\\begin{equation}\n",
       "\\left[\n",
       "\\begin{array}{ccc}\n",
       "  &   &   \\\\\n",
       "  &   &   \\\\\n",
       "  &   &   \\\\\n",
       "\\end{array}\n",
       "\\right]\n",
       "\\end{equation}\n",
       "\""
      ]
     },
     "execution_count": 164,
     "metadata": {},
     "output_type": "execute_result"
    }
   ],
   "source": [
    "O = zeros(Char, 3,3)\n",
    "O |> latexify"
   ]
  },
  {
   "cell_type": "code",
   "execution_count": 165,
   "metadata": {},
   "outputs": [
    {
     "data": {
      "text/latex": [
       "\\begin{equation}\n",
       "\\left[\n",
       "\\begin{array}{ccc}\n",
       "s & s & s \\\\\n",
       "s & s & s \\\\\n",
       "s & s & s \\\\\n",
       "\\end{array}\n",
       "\\right]\n",
       "\\end{equation}\n"
      ],
      "text/plain": [
       "L\"\\begin{equation}\n",
       "\\left[\n",
       "\\begin{array}{ccc}\n",
       "s & s & s \\\\\n",
       "s & s & s \\\\\n",
       "s & s & s \\\\\n",
       "\\end{array}\n",
       "\\right]\n",
       "\\end{equation}\n",
       "\""
      ]
     },
     "execution_count": 165,
     "metadata": {},
     "output_type": "execute_result"
    }
   ],
   "source": [
    "U = fill(small, 3,3)\n",
    "U |> latexify"
   ]
  },
  {
   "cell_type": "code",
   "execution_count": 166,
   "metadata": {},
   "outputs": [
    {
     "data": {
      "text/latex": [
       "\\begin{equation}\n",
       "\\left[\n",
       "\\begin{array}{ccc}\n",
       "sL & sM & ss \\\\\n",
       "sL & sM & ss \\\\\n",
       "sL & sM & ss \\\\\n",
       "\\end{array}\n",
       "\\right]\n",
       "\\end{equation}\n"
      ],
      "text/plain": [
       "L\"\\begin{equation}\n",
       "\\left[\n",
       "\\begin{array}{ccc}\n",
       "sL & sM & ss \\\\\n",
       "sL & sM & ss \\\\\n",
       "sL & sM & ss \\\\\n",
       "\\end{array}\n",
       "\\right]\n",
       "\\end{equation}\n",
       "\""
      ]
     },
     "execution_count": 166,
     "metadata": {},
     "output_type": "execute_result"
    }
   ],
   "source": [
    "U * D |> latexify"
   ]
  },
  {
   "cell_type": "code",
   "execution_count": 167,
   "metadata": {},
   "outputs": [
    {
     "data": {
      "text/latex": [
       "\\begin{equation}\n",
       "\\left[\n",
       "\\begin{array}{ccc}\n",
       "LsL & LsM & Lss \\\\\n",
       "MsL & MsM & Mss \\\\\n",
       "ssL & ssM & sss \\\\\n",
       "\\end{array}\n",
       "\\right]\n",
       "\\end{equation}\n"
      ],
      "text/plain": [
       "L\"\\begin{equation}\n",
       "\\left[\n",
       "\\begin{array}{ccc}\n",
       "LsL & LsM & Lss \\\\\n",
       "MsL & MsM & Mss \\\\\n",
       "ssL & ssM & sss \\\\\n",
       "\\end{array}\n",
       "\\right]\n",
       "\\end{equation}\n",
       "\""
      ]
     },
     "execution_count": 167,
     "metadata": {},
     "output_type": "execute_result"
    }
   ],
   "source": [
    "D * U * D |> latexify"
   ]
  },
  {
   "cell_type": "code",
   "execution_count": 168,
   "metadata": {},
   "outputs": [
    {
     "name": "stdout",
     "output_type": "stream",
     "text": [
      "\\begin{equation}\n",
      "\\left[\n",
      "\\begin{array}{ccc}\n",
      "LsL & LsM & Lss \\\\\n",
      "MsL & MsM & Mss \\\\\n",
      "ssL & ssM & sss \\\\\n",
      "\\end{array}\n",
      "\\right]\n",
      "\\end{equation}\n"
     ]
    }
   ],
   "source": [
    "print(ans)"
   ]
  },
  {
   "cell_type": "code",
   "execution_count": 169,
   "metadata": {},
   "outputs": [
    {
     "data": {
      "text/latex": [
       "\\begin{equation}\n",
       "\\left[\n",
       "\\begin{array}{ccc}\n",
       "sL & sM & ss \\\\\n",
       "sL & sM & ss \\\\\n",
       "sL & sM & ss \\\\\n",
       "\\end{array}\n",
       "\\right]\n",
       "\\end{equation}\n"
      ],
      "text/plain": [
       "L\"\\begin{equation}\n",
       "\\left[\n",
       "\\begin{array}{ccc}\n",
       "sL & sM & ss \\\\\n",
       "sL & sM & ss \\\\\n",
       "sL & sM & ss \\\\\n",
       "\\end{array}\n",
       "\\right]\n",
       "\\end{equation}\n",
       "\""
      ]
     },
     "execution_count": 169,
     "metadata": {},
     "output_type": "execute_result"
    }
   ],
   "source": [
    "U*D |> latexify"
   ]
  },
  {
   "cell_type": "markdown",
   "metadata": {},
   "source": [
    "#### 4x4"
   ]
  },
  {
   "cell_type": "code",
   "execution_count": 171,
   "metadata": {},
   "outputs": [
    {
     "data": {
      "text/plain": [
       "4×4 Array{Char,2}:\n",
       " 'L'  ' '  ' '  ' '\n",
       " ' '  'M'  ' '  ' '\n",
       " ' '  ' '  's'  ' '\n",
       " ' '  ' '  ' '  't'"
      ]
     },
     "execution_count": 171,
     "metadata": {},
     "output_type": "execute_result"
    }
   ],
   "source": [
    "using LinearAlgebra\n",
    "D = diagm(0 => [large, medium, small, tiny])"
   ]
  },
  {
   "cell_type": "code",
   "execution_count": 174,
   "metadata": {},
   "outputs": [
    {
     "data": {
      "text/latex": [
       "\\begin{equation}\n",
       "\\left[\n",
       "\\begin{array}{cccc}\n",
       "s & s & s & s \\\\\n",
       "s & s & s & s \\\\\n",
       "s & s & s & s \\\\\n",
       "s & s & s & s \\\\\n",
       "\\end{array}\n",
       "\\right]\n",
       "\\end{equation}\n"
      ],
      "text/plain": [
       "L\"\\begin{equation}\n",
       "\\left[\n",
       "\\begin{array}{cccc}\n",
       "s & s & s & s \\\\\n",
       "s & s & s & s \\\\\n",
       "s & s & s & s \\\\\n",
       "s & s & s & s \\\\\n",
       "\\end{array}\n",
       "\\right]\n",
       "\\end{equation}\n",
       "\""
      ]
     },
     "execution_count": 174,
     "metadata": {},
     "output_type": "execute_result"
    }
   ],
   "source": [
    "U = fill(small, 4,4)\n",
    "U |> latexify"
   ]
  },
  {
   "cell_type": "code",
   "execution_count": 175,
   "metadata": {},
   "outputs": [
    {
     "data": {
      "text/latex": [
       "\\begin{equation}\n",
       "\\left[\n",
       "\\begin{array}{cccc}\n",
       "LsL & LsM & Lss & Lst \\\\\n",
       "MsL & MsM & Mss & Mst \\\\\n",
       "ssL & ssM & sss & sst \\\\\n",
       "tsL & tsM & tss & tst \\\\\n",
       "\\end{array}\n",
       "\\right]\n",
       "\\end{equation}\n"
      ],
      "text/plain": [
       "L\"\\begin{equation}\n",
       "\\left[\n",
       "\\begin{array}{cccc}\n",
       "LsL & LsM & Lss & Lst \\\\\n",
       "MsL & MsM & Mss & Mst \\\\\n",
       "ssL & ssM & sss & sst \\\\\n",
       "tsL & tsM & tss & tst \\\\\n",
       "\\end{array}\n",
       "\\right]\n",
       "\\end{equation}\n",
       "\""
      ]
     },
     "execution_count": 175,
     "metadata": {},
     "output_type": "execute_result"
    }
   ],
   "source": [
    "D*U*D |> latexify"
   ]
  },
  {
   "cell_type": "code",
   "execution_count": 179,
   "metadata": {},
   "outputs": [
    {
     "data": {
      "text/plain": [
       "4×4 Array{Char,2}:\n",
       " 'L'  ' '  ' '  ' '\n",
       " ' '  'M'  ' '  ' '\n",
       " ' '  ' '  's'  ' '\n",
       " ' '  ' '  ' '  't'"
      ]
     },
     "execution_count": 179,
     "metadata": {},
     "output_type": "execute_result"
    }
   ],
   "source": [
    "D"
   ]
  },
  {
   "cell_type": "code",
   "execution_count": 178,
   "metadata": {},
   "outputs": [
    {
     "data": {
      "text/latex": [
       "\\begin{equation}\n",
       "\\left[\n",
       "\\begin{array}{cccc}\n",
       "sts & sts & sts & sts \\\\\n",
       "sts & sts & sts & sts \\\\\n",
       "sts & sts & sts & sts \\\\\n",
       "sts & sts & sts & sts \\\\\n",
       "\\end{array}\n",
       "\\right]\n",
       "\\end{equation}\n"
      ],
      "text/plain": [
       "L\"\\begin{equation}\n",
       "\\left[\n",
       "\\begin{array}{cccc}\n",
       "sts & sts & sts & sts \\\\\n",
       "sts & sts & sts & sts \\\\\n",
       "sts & sts & sts & sts \\\\\n",
       "sts & sts & sts & sts \\\\\n",
       "\\end{array}\n",
       "\\right]\n",
       "\\end{equation}\n",
       "\""
      ]
     },
     "execution_count": 178,
     "metadata": {},
     "output_type": "execute_result"
    }
   ],
   "source": [
    "U*D*U |> latexify"
   ]
  },
  {
   "cell_type": "markdown",
   "metadata": {},
   "source": [
    "## Using Sympy"
   ]
  },
  {
   "cell_type": "code",
   "execution_count": 19,
   "metadata": {},
   "outputs": [],
   "source": [
    "using SymPy\n",
    "using LinearAlgebra"
   ]
  },
  {
   "cell_type": "code",
   "execution_count": 20,
   "metadata": {},
   "outputs": [
    {
     "data": {
      "text/plain": [
       "(X, x, ₓ)"
      ]
     },
     "execution_count": 20,
     "metadata": {},
     "output_type": "execute_result"
    }
   ],
   "source": [
    "X, x, ₓ = @vars X x ₓ"
   ]
  },
  {
   "cell_type": "code",
   "execution_count": null,
   "metadata": {},
   "outputs": [],
   "source": []
  },
  {
   "cell_type": "code",
   "execution_count": 21,
   "metadata": {},
   "outputs": [
    {
     "data": {
      "text/latex": [
       "\\[\\left[ \\begin{array}{rrr}X&0&0\\\\0&x&0\\\\0&0&ₓ\\end{array}\\right]\\]"
      ],
      "text/plain": [
       "3×3 Array{Sym,2}:\n",
       " X  0  0\n",
       " 0  x  0\n",
       " 0  0  ₓ"
      ]
     },
     "execution_count": 21,
     "metadata": {},
     "output_type": "execute_result"
    }
   ],
   "source": [
    "D = diagm([X,x,ₓ])"
   ]
  },
  {
   "cell_type": "code",
   "execution_count": 22,
   "metadata": {},
   "outputs": [
    {
     "data": {
      "text/latex": [
       "\\[\\left[ \\begin{array}{rrr}x&x&x\\\\x&x&x\\\\x&x&x\\end{array}\\right]\\]"
      ],
      "text/plain": [
       "3×3 Array{Sym,2}:\n",
       " x  x  x\n",
       " x  x  x\n",
       " x  x  x"
      ]
     },
     "execution_count": 22,
     "metadata": {},
     "output_type": "execute_result"
    }
   ],
   "source": [
    "U = fill(x, 3,3)"
   ]
  },
  {
   "cell_type": "code",
   "execution_count": 23,
   "metadata": {},
   "outputs": [
    {
     "data": {
      "text/latex": [
       "\\[\\left[ \\begin{array}{rrr}X x&x^{2}&x ₓ\\\\X x&x^{2}&x ₓ\\\\X x&x^{2}&x ₓ\\end{array}\\right]\\]"
      ],
      "text/plain": [
       "3×3 Array{Sym,2}:\n",
       " X*x  x^2  x*ₓ\n",
       " X*x  x^2  x*ₓ\n",
       " X*x  x^2  x*ₓ"
      ]
     },
     "execution_count": 23,
     "metadata": {},
     "output_type": "execute_result"
    }
   ],
   "source": [
    "U*D"
   ]
  },
  {
   "cell_type": "code",
   "execution_count": 24,
   "metadata": {},
   "outputs": [
    {
     "data": {
      "text/plain": [
       "(⚫, ⬤, ●, 🞄)"
      ]
     },
     "execution_count": 24,
     "metadata": {},
     "output_type": "execute_result"
    }
   ],
   "source": [
    "⚫, ⬤, ●, 🞄 = @vars ⚫ ⬤ ● 🞄"
   ]
  },
  {
   "cell_type": "code",
   "execution_count": 25,
   "metadata": {},
   "outputs": [
    {
     "data": {
      "text/latex": [
       "\\[\\left[ \\begin{array}{rrrr}⚫&0&0&0\\\\0&⬤&0&0\\\\0&0&●&0\\\\0&0&0&🞄\\end{array}\\right]\\]"
      ],
      "text/plain": [
       "4×4 Array{Sym,2}:\n",
       " ⚫  0  0  0\n",
       " 0  ⬤  0  0\n",
       " 0  0  ●  0\n",
       " 0  0  0  🞄"
      ]
     },
     "execution_count": 25,
     "metadata": {},
     "output_type": "execute_result"
    }
   ],
   "source": [
    "D = diagm([⚫, ⬤, ●, 🞄])"
   ]
  },
  {
   "cell_type": "code",
   "execution_count": 26,
   "metadata": {},
   "outputs": [
    {
     "data": {
      "text/latex": [
       "\\begin{equation}\n",
       "\\left[\n",
       "\\begin{array}{cccc}\n",
       "1000 & 0 & 0 & 0 \\\\\n",
       "0 & 100 & 0 & 0 \\\\\n",
       "0 & 0 & 10 & 0 \\\\\n",
       "0 & 0 & 0 & 1 \\\\\n",
       "\\end{array}\n",
       "\\right]\n",
       "\\end{equation}\n"
      ],
      "text/plain": [
       "L\"\\begin{equation}\n",
       "\\left[\n",
       "\\begin{array}{cccc}\n",
       "1000 & 0 & 0 & 0 \\\\\n",
       "0 & 100 & 0 & 0 \\\\\n",
       "0 & 0 & 10 & 0 \\\\\n",
       "0 & 0 & 0 & 1 \\\\\n",
       "\\end{array}\n",
       "\\right]\n",
       "\\end{equation}\n",
       "\""
      ]
     },
     "execution_count": 26,
     "metadata": {},
     "output_type": "execute_result"
    }
   ],
   "source": [
    "Diagonal([1000, 100, 10, 1]) |> latexify"
   ]
  },
  {
   "cell_type": "code",
   "execution_count": 27,
   "metadata": {},
   "outputs": [
    {
     "data": {
      "text/plain": [
       "(L, M, s, t)"
      ]
     },
     "execution_count": 27,
     "metadata": {},
     "output_type": "execute_result"
    }
   ],
   "source": [
    "⬛, ■, ◾, ▪ = @vars ⬛ ■ ◾ ▪\n",
    "L, M, s, t = @vars L M s t"
   ]
  },
  {
   "cell_type": "code",
   "execution_count": 28,
   "metadata": {},
   "outputs": [
    {
     "data": {
      "text/latex": [
       "\\[ \\left[ \\begin{array}{r}L\\\\M\\\\s\\\\t\\end{array} \\right] \\]"
      ],
      "text/plain": [
       "4-element Array{Sym,1}:\n",
       " L\n",
       " M\n",
       " s\n",
       " t"
      ]
     },
     "execution_count": 28,
     "metadata": {},
     "output_type": "execute_result"
    }
   ],
   "source": [
    "d = [⬛, ■, ◾, ▪]\n",
    "d = [L, M, s, t]"
   ]
  },
  {
   "cell_type": "code",
   "execution_count": 29,
   "metadata": {},
   "outputs": [
    {
     "data": {
      "text/latex": [
       "\\[\\left[ \\begin{array}{rrrr}L&0&0&0\\\\0&M&0&0\\\\0&0&s&0\\\\0&0&0&t\\end{array}\\right]\\]"
      ],
      "text/plain": [
       "4×4 Array{Sym,2}:\n",
       " L  0  0  0\n",
       " 0  M  0  0\n",
       " 0  0  s  0\n",
       " 0  0  0  t"
      ]
     },
     "execution_count": 29,
     "metadata": {},
     "output_type": "execute_result"
    }
   ],
   "source": [
    "D = diagm(d)"
   ]
  },
  {
   "cell_type": "code",
   "execution_count": 30,
   "metadata": {},
   "outputs": [
    {
     "data": {
      "text/latex": [
       "\\[\\left[ \\begin{array}{rrrr}s&s&s&s\\\\s&s&s&s\\\\s&s&s&s\\\\s&s&s&s\\end{array}\\right]\\]"
      ],
      "text/plain": [
       "4×4 Array{Sym,2}:\n",
       " s  s  s  s\n",
       " s  s  s  s\n",
       " s  s  s  s\n",
       " s  s  s  s"
      ]
     },
     "execution_count": 30,
     "metadata": {},
     "output_type": "execute_result"
    }
   ],
   "source": [
    "U = fill(◾, 4,4)\n",
    "U = fill(s, 4,4)"
   ]
  },
  {
   "cell_type": "code",
   "execution_count": 31,
   "metadata": {},
   "outputs": [
    {
     "data": {
      "text/latex": [
       "\\[\\left[ \\begin{array}{rrrr}L^{2} s&L M s&L s^{2}&L s t\\\\L M s&M^{2} s&M s^{2}&M s t\\\\L s^{2}&M s^{2}&s^{3}&s^{2} t\\\\L s t&M s t&s^{2} t&s t^{2}\\end{array}\\right]\\]"
      ],
      "text/plain": [
       "4×4 Array{Sym,2}:\n",
       " L^2*s  L*M*s  L*s^2  L*s*t\n",
       " L*M*s  M^2*s  M*s^2  M*s*t\n",
       " L*s^2  M*s^2    s^3  s^2*t\n",
       " L*s*t  M*s*t  s^2*t  s*t^2"
      ]
     },
     "execution_count": 31,
     "metadata": {},
     "output_type": "execute_result"
    }
   ],
   "source": [
    "R = D*U*D"
   ]
  },
  {
   "cell_type": "code",
   "execution_count": 32,
   "metadata": {},
   "outputs": [
    {
     "data": {
      "text/latex": [
       "\\[\\left[ \\begin{array}{rrrr}4 L s^{2}&4 M s^{2}&4 s^{3}&4 s^{2} t\\\\4 L s^{2}&4 M s^{2}&4 s^{3}&4 s^{2} t\\\\4 L s^{2}&4 M s^{2}&4 s^{3}&4 s^{2} t\\\\4 L s^{2}&4 M s^{2}&4 s^{3}&4 s^{2} t\\end{array}\\right]\\]"
      ],
      "text/plain": [
       "4×4 Array{Sym,2}:\n",
       " 4*L*s^2  4*M*s^2  4*s^3  4*s^2*t\n",
       " 4*L*s^2  4*M*s^2  4*s^3  4*s^2*t\n",
       " 4*L*s^2  4*M*s^2  4*s^3  4*s^2*t\n",
       " 4*L*s^2  4*M*s^2  4*s^3  4*s^2*t"
      ]
     },
     "execution_count": 32,
     "metadata": {},
     "output_type": "execute_result"
    }
   ],
   "source": [
    "A = U*U\n",
    "A*D"
   ]
  },
  {
   "cell_type": "code",
   "execution_count": 33,
   "metadata": {},
   "outputs": [
    {
     "data": {
      "text/latex": [
       "\\[\\left[ \\begin{array}{rrrr}4 L s^{2}&4 M s^{2}&4 s^{3}&4 s^{2} t\\\\4 L s^{2}&4 M s^{2}&4 s^{3}&4 s^{2} t\\\\4 L s^{2}&4 M s^{2}&4 s^{3}&4 s^{2} t\\\\4 L s^{2}&4 M s^{2}&4 s^{3}&4 s^{2} t\\end{array}\\right]\\]"
      ],
      "text/plain": [
       "4×4 Array{Sym,2}:\n",
       " 4*L*s^2  4*M*s^2  4*s^3  4*s^2*t\n",
       " 4*L*s^2  4*M*s^2  4*s^3  4*s^2*t\n",
       " 4*L*s^2  4*M*s^2  4*s^3  4*s^2*t\n",
       " 4*L*s^2  4*M*s^2  4*s^3  4*s^2*t"
      ]
     },
     "execution_count": 33,
     "metadata": {},
     "output_type": "execute_result"
    }
   ],
   "source": [
    "A = U*D\n",
    "U*A"
   ]
  },
  {
   "cell_type": "code",
   "execution_count": 34,
   "metadata": {},
   "outputs": [
    {
     "name": "stdout",
     "output_type": "stream",
     "text": [
      "\\begin{equation}\n",
      "\\left[\n",
      "\\begin{array}{cccc}\n",
      "s & s & s & s \\\\\n",
      "s & s & s & s \\\\\n",
      "s & s & s & s \\\\\n",
      "s & s & s & s \\\\\n",
      "\\end{array}\n",
      "\\right]\n",
      "\\end{equation}\n"
     ]
    }
   ],
   "source": [
    "U |> latexify |> print"
   ]
  },
  {
   "cell_type": "code",
   "execution_count": 35,
   "metadata": {},
   "outputs": [
    {
     "name": "stdout",
     "output_type": "stream",
     "text": [
      "\\begin{equation}\n",
      "\\left[\n",
      "\\begin{array}{cccc}\n",
      "L & 0 & 0 & 0 \\\\\n",
      "0 & M & 0 & 0 \\\\\n",
      "0 & 0 & s & 0 \\\\\n",
      "0 & 0 & 0 & t \\\\\n",
      "\\end{array}\n",
      "\\right]\n",
      "\\end{equation}\n"
     ]
    }
   ],
   "source": [
    "D |> latexify |> print"
   ]
  },
  {
   "cell_type": "code",
   "execution_count": 213,
   "metadata": {},
   "outputs": [
    {
     "name": "stdout",
     "output_type": "stream",
     "text": [
      "\\begin{equation}\n",
      "\\left[\n",
      "\\begin{array}{cccc}\n",
      "L^2*s & L*M*s & L*s^2 & L*s*t \\\\\n",
      "L*M*s & M^2*s & M*s^2 & M*s*t \\\\\n",
      "L*s^2 & M*s^2 & s^3 & s^2*t \\\\\n",
      "L*s*t & M*s*t & s^2*t & s*t^2 \\\\\n",
      "\\end{array}\n",
      "\\right]\n",
      "\\end{equation}\n"
     ]
    }
   ],
   "source": [
    "D*(U*D) |> latexify |> print"
   ]
  },
  {
   "cell_type": "code",
   "execution_count": 222,
   "metadata": {},
   "outputs": [
    {
     "name": "stdout",
     "output_type": "stream",
     "text": [
      "\\begin{equation}\n",
      "\\left[\n",
      "\\begin{array}{cccc}\n",
      "L + s & s & s & s \\\\\n",
      "s & M + s & s & s \\\\\n",
      "s & s & 2*s & s \\\\\n",
      "s & s & s & s + t \\\\\n",
      "\\end{array}\n",
      "\\right]\n",
      "\\end{equation}\n"
     ]
    }
   ],
   "source": [
    "U + D |> latexify |> print"
   ]
  },
  {
   "cell_type": "code",
   "execution_count": 262,
   "metadata": {},
   "outputs": [
    {
     "data": {
      "text/plain": [
       "4×4 Array{Float64,2}:\n",
       " 1.0e128  0.0     0.0  0.0    \n",
       " 0.0      1.0e64  0.0  0.0    \n",
       " 0.0      0.0     1.0  0.0    \n",
       " 0.0      0.0     0.0  1.0e-64"
      ]
     },
     "execution_count": 262,
     "metadata": {},
     "output_type": "execute_result"
    }
   ],
   "source": [
    "X = diagm([1e128, 1e64, 1e0, 1e-64])\n",
    "# N = rand(4,4)\n",
    "# N[diagind(N)] .= 0\n",
    "# X = X+N"
   ]
  },
  {
   "cell_type": "code",
   "execution_count": 263,
   "metadata": {},
   "outputs": [
    {
     "data": {
      "text/plain": [
       "SVD{Float64,Float64,Array{Float64,2}}\n",
       "U factor:\n",
       "4×4 Array{Float64,2}:\n",
       " 1.0  0.0  0.0  0.0\n",
       " 0.0  1.0  0.0  0.0\n",
       " 0.0  0.0  1.0  0.0\n",
       " 0.0  0.0  0.0  1.0\n",
       "singular values:\n",
       "4-element Array{Float64,1}:\n",
       " 1.0e128\n",
       " 1.0e64 \n",
       " 1.0    \n",
       " 1.0e-64\n",
       "Vt factor:\n",
       "4×4 Array{Float64,2}:\n",
       " 1.0  0.0  0.0  0.0\n",
       " 0.0  1.0  0.0  0.0\n",
       " 0.0  0.0  1.0  0.0\n",
       " 0.0  0.0  0.0  1.0"
      ]
     },
     "execution_count": 263,
     "metadata": {},
     "output_type": "execute_result"
    }
   ],
   "source": [
    "F = svd(X)"
   ]
  },
  {
   "cell_type": "code",
   "execution_count": 264,
   "metadata": {},
   "outputs": [
    {
     "data": {
      "text/plain": [
       "4-element Array{Float64,1}:\n",
       " 1.0e128\n",
       " 1.0e64 \n",
       " 1.0    \n",
       " 1.0e-64"
      ]
     },
     "execution_count": 264,
     "metadata": {},
     "output_type": "execute_result"
    }
   ],
   "source": [
    "s = F.S"
   ]
  },
  {
   "cell_type": "code",
   "execution_count": 265,
   "metadata": {},
   "outputs": [],
   "source": [
    "using GenericSVD"
   ]
  },
  {
   "cell_type": "code",
   "execution_count": 266,
   "metadata": {},
   "outputs": [],
   "source": [
    "Xb = big.(X);"
   ]
  },
  {
   "cell_type": "code",
   "execution_count": 267,
   "metadata": {},
   "outputs": [
    {
     "name": "stderr",
     "output_type": "stream",
     "text": [
      "┌ Warning: keyword `alg` ignored in generic svd!\n",
      "└ @ GenericSVD C:\\Users\\carsten\\.julia\\packages\\GenericSVD\\w8oZE\\src\\GenericSVD.jl:12\n"
     ]
    },
    {
     "data": {
      "text/plain": [
       "SVD{BigFloat,BigFloat,Array{BigFloat,2}}\n",
       "U factor:\n",
       "4×4 Array{BigFloat,2}:\n",
       " -1.0   0.0   0.0   0.0\n",
       "  0.0  -1.0   0.0   0.0\n",
       "  0.0   0.0  -1.0   0.0\n",
       "  0.0   0.0   0.0  -1.0\n",
       "singular values:\n",
       "4-element Array{BigFloat,1}:\n",
       " 1.000000000000000075174486916518208627471429064352408213482909102357765925242415e+128\n",
       " 1.0000000000000000213204190094543968723012578712679649467743338496e+64               \n",
       " 1.0                                                                                  \n",
       " 9.999999999999999653057388335469287129029766072807834803722132478776394919962261e-65 \n",
       "Vt factor:\n",
       "4×4 Array{BigFloat,2}:\n",
       " -1.0  -0.0  -0.0  -0.0\n",
       " -0.0  -1.0  -0.0  -0.0\n",
       " -0.0  -0.0  -1.0  -0.0\n",
       " -0.0  -0.0  -0.0  -1.0"
      ]
     },
     "execution_count": 267,
     "metadata": {},
     "output_type": "execute_result"
    }
   ],
   "source": [
    "Fb = svd(Xb)"
   ]
  },
  {
   "cell_type": "code",
   "execution_count": 268,
   "metadata": {},
   "outputs": [
    {
     "data": {
      "text/plain": [
       "4-element Array{BigFloat,1}:\n",
       " 1.000000000000000075174486916518208627471429064352408213482909102357765925242415e+128\n",
       " 1.0000000000000000213204190094543968723012578712679649467743338496e+64               \n",
       " 1.0                                                                                  \n",
       " 9.999999999999999653057388335469287129029766072807834803722132478776394919962261e-65 "
      ]
     },
     "execution_count": 268,
     "metadata": {},
     "output_type": "execute_result"
    }
   ],
   "source": [
    "sb = Fb.S"
   ]
  },
  {
   "cell_type": "code",
   "execution_count": 269,
   "metadata": {},
   "outputs": [
    {
     "data": {
      "text/plain": [
       "4-element Array{BigFloat,1}:\n",
       " 0.0\n",
       " 0.0\n",
       " 0.0\n",
       " 0.0"
      ]
     },
     "execution_count": 269,
     "metadata": {},
     "output_type": "execute_result"
    }
   ],
   "source": [
    "s - sb"
   ]
  },
  {
   "cell_type": "code",
   "execution_count": 270,
   "metadata": {},
   "outputs": [],
   "source": [
    "using StableDQMC"
   ]
  },
  {
   "cell_type": "code",
   "execution_count": 282,
   "metadata": {},
   "outputs": [
    {
     "data": {
      "text/plain": [
       "4-element Array{BigFloat,1}:\n",
       "  1.055257420480776903302833588116958909651870865180872244893734331233485866027102e-146\n",
       " -1.33738421569986748693560322601556473903283452878299156314954071924493402990837e-81  \n",
       "  0.0                                                                                  \n",
       "  1.000000000000032856963321712779388680454016569740087535451726237621195734616864e-64 "
      ]
     },
     "execution_count": 282,
     "metadata": {},
     "output_type": "execute_result"
    }
   ],
   "source": [
    "svd_inv_one_plus(F).S - svd_inv_one_plus(Fb).S"
   ]
  },
  {
   "cell_type": "code",
   "execution_count": 297,
   "metadata": {},
   "outputs": [
    {
     "data": {
      "text/plain": [
       "4-element Array{Float64,1}:\n",
       " 9.999999999999999e-129\n",
       " 1.0e-64               \n",
       " 0.5                   \n",
       " 1.0                   "
      ]
     },
     "execution_count": 297,
     "metadata": {},
     "output_type": "execute_result"
    }
   ],
   "source": [
    "svd_inv_one_plus(F).S"
   ]
  },
  {
   "cell_type": "code",
   "execution_count": 308,
   "metadata": {},
   "outputs": [
    {
     "data": {
      "text/plain": [
       "4×4 Array{BigFloat,2}:\n",
       "  1.0  -0.0  -0.0  -0.0\n",
       " -0.0   1.0  -0.0  -0.0\n",
       " -0.0  -0.0   1.0  -0.0\n",
       " -0.0  -0.0  -0.0   1.0"
      ]
     },
     "execution_count": 308,
     "metadata": {},
     "output_type": "execute_result"
    }
   ],
   "source": [
    "Fb.U'/Fb.V"
   ]
  },
  {
   "cell_type": "code",
   "execution_count": 320,
   "metadata": {},
   "outputs": [
    {
     "data": {
      "text/plain": [
       "0.9999999000000099"
      ]
     },
     "execution_count": 320,
     "metadata": {},
     "output_type": "execute_result"
    }
   ],
   "source": [
    "1 / 1.0000001"
   ]
  },
  {
   "cell_type": "code",
   "execution_count": 309,
   "metadata": {},
   "outputs": [
    {
     "data": {
      "text/plain": [
       "4×4 Diagonal{BigFloat,Array{BigFloat,1}}:\n",
       " 1.0e+128   ⋅        ⋅    ⋅     \n",
       "  ⋅        1.0e+64   ⋅    ⋅     \n",
       "  ⋅         ⋅       1.0   ⋅     \n",
       "  ⋅         ⋅        ⋅   1.0e-64"
      ]
     },
     "execution_count": 309,
     "metadata": {},
     "output_type": "execute_result"
    }
   ],
   "source": [
    "Diagonal(Fb.S)"
   ]
  },
  {
   "cell_type": "code",
   "execution_count": 299,
   "metadata": {},
   "outputs": [
    {
     "name": "stdout",
     "output_type": "stream",
     "text": [
      "search:\n",
      "\n",
      "Couldn't find \u001b[36msetprecision\u001b[39m\n",
      "\u001b[36mFb.U'/Fb.V + Diagonal(Fb.S)\u001b[39m\n",
      "Perhaps you meant setprecision\n"
     ]
    },
    {
     "data": {
      "text/latex": [
       "No documentation found.\n",
       "\n",
       "Binding \\texttt{setprecision Fb.U'/Fb.V + Diagonal(Fb.S)} does not exist.\n",
       "\n"
      ],
      "text/markdown": [
       "No documentation found.\n",
       "\n",
       "Binding `setprecision Fb.U'/Fb.V + Diagonal(Fb.S)` does not exist.\n"
      ],
      "text/plain": [
       "  No documentation found.\n",
       "\n",
       "  Binding \u001b[36msetprecision Fb.U'/Fb.V + Diagonal(Fb.S)\u001b[39m does not exist."
      ]
     },
     "execution_count": 299,
     "metadata": {},
     "output_type": "execute_result"
    }
   ],
   "source": [
    "Fb.U'/Fb.V + Diagonal(Fb.S)"
   ]
  },
  {
   "cell_type": "code",
   "execution_count": 290,
   "metadata": {},
   "outputs": [],
   "source": [
    "Ftmp = svd(F.U'/F.V + Diagonal(F.S));"
   ]
  },
  {
   "cell_type": "code",
   "execution_count": 294,
   "metadata": {},
   "outputs": [
    {
     "data": {
      "text/plain": [
       "4-element Array{Float64,1}:\n",
       " 9.999999999999999e-129\n",
       " 1.0e-64               \n",
       " 0.5                   \n",
       " 1.0                   "
      ]
     },
     "execution_count": 294,
     "metadata": {},
     "output_type": "execute_result"
    }
   ],
   "source": [
    "1 ./ Ftmp.S"
   ]
  },
  {
   "cell_type": "code",
   "execution_count": 335,
   "metadata": {},
   "outputs": [
    {
     "data": {
      "text/plain": [
       "1.000000000000000000000000000000000000000000000000000000000000000000000000100007"
      ]
     },
     "execution_count": 335,
     "metadata": {},
     "output_type": "execute_result"
    }
   ],
   "source": [
    "x = big\"1.0000000000000000000000000000000000000000000000000000000000000000000000001\""
   ]
  },
  {
   "cell_type": "code",
   "execution_count": 336,
   "metadata": {},
   "outputs": [
    {
     "data": {
      "text/plain": [
       "1.0"
      ]
     },
     "execution_count": 336,
     "metadata": {},
     "output_type": "execute_result"
    }
   ],
   "source": [
    "y = big\"1.0000000000000000000000000000000000000000000000000000000000000000000000000\""
   ]
  },
  {
   "cell_type": "code",
   "execution_count": 345,
   "metadata": {},
   "outputs": [
    {
     "data": {
      "text/plain": [
       "reldiff (generic function with 1 method)"
      ]
     },
     "execution_count": 345,
     "metadata": {},
     "output_type": "execute_result"
    }
   ],
   "source": [
    "reldiff(x,y) = abs(x - y)/abs(x)"
   ]
  },
  {
   "cell_type": "code",
   "execution_count": 346,
   "metadata": {},
   "outputs": [
    {
     "data": {
      "text/plain": [
       "1.00006831867993668761973954571228627033523284220172138438574486184552293070619e-73"
      ]
     },
     "execution_count": 346,
     "metadata": {},
     "output_type": "execute_result"
    }
   ],
   "source": [
    "reldiff(x,y)"
   ]
  },
  {
   "cell_type": "code",
   "execution_count": 347,
   "metadata": {},
   "outputs": [
    {
     "data": {
      "text/plain": [
       "1.000068318679936687619739545712286270335232842201721384385744861845522930906228e-73"
      ]
     },
     "execution_count": 347,
     "metadata": {},
     "output_type": "execute_result"
    }
   ],
   "source": [
    "reldiff(1/x,1/y)"
   ]
  },
  {
   "cell_type": "code",
   "execution_count": 36,
   "metadata": {},
   "outputs": [
    {
     "data": {
      "text/latex": [
       "\\[\\left[ \\begin{array}{rrrr}L&0&0&0\\\\0&M&0&0\\\\0&0&s&0\\\\0&0&0&s\\end{array}\\right]\\]"
      ],
      "text/plain": [
       "4×4 Array{Sym,2}:\n",
       " L  0  0  0\n",
       " 0  M  0  0\n",
       " 0  0  s  0\n",
       " 0  0  0  s"
      ]
     },
     "execution_count": 36,
     "metadata": {},
     "output_type": "execute_result"
    }
   ],
   "source": [
    "Dp = diagm([L, M, s, s])"
   ]
  },
  {
   "cell_type": "code",
   "execution_count": 37,
   "metadata": {},
   "outputs": [
    {
     "data": {
      "text/latex": [
       "\\[\\left[ \\begin{array}{rrrr}s&0&0&0\\\\0&s&0&0\\\\0&0&s&0\\\\0&0&0&t\\end{array}\\right]\\]"
      ],
      "text/plain": [
       "4×4 Array{Sym,2}:\n",
       " s  0  0  0\n",
       " 0  s  0  0\n",
       " 0  0  s  0\n",
       " 0  0  0  t"
      ]
     },
     "execution_count": 37,
     "metadata": {},
     "output_type": "execute_result"
    }
   ],
   "source": [
    "Dm = diagm([s, s, s, t])"
   ]
  },
  {
   "cell_type": "code",
   "execution_count": 38,
   "metadata": {},
   "outputs": [
    {
     "data": {
      "text/latex": [
       "\\[\\left[ \\begin{array}{rrrr}\\frac{s}{L}&\\frac{s}{M}&1&1\\\\\\frac{s}{L}&\\frac{s}{M}&1&1\\\\\\frac{s}{L}&\\frac{s}{M}&1&1\\\\\\frac{s}{L}&\\frac{s}{M}&1&1\\end{array}\\right]\\]"
      ],
      "text/plain": [
       "4×4 Array{Sym,2}:\n",
       " s/L  s/M  1  1\n",
       " s/L  s/M  1  1\n",
       " s/L  s/M  1  1\n",
       " s/L  s/M  1  1"
      ]
     },
     "execution_count": 38,
     "metadata": {},
     "output_type": "execute_result"
    }
   ],
   "source": [
    "A = U * inv(Dp)"
   ]
  },
  {
   "cell_type": "code",
   "execution_count": 39,
   "metadata": {},
   "outputs": [
    {
     "data": {
      "text/latex": [
       "\\[\\left[ \\begin{array}{rrrr}s^{2}&s^{2}&s^{2}&s t\\\\s^{2}&s^{2}&s^{2}&s t\\\\s^{2}&s^{2}&s^{2}&s t\\\\s^{2}&s^{2}&s^{2}&s t\\end{array}\\right]\\]"
      ],
      "text/plain": [
       "4×4 Array{Sym,2}:\n",
       " s^2  s^2  s^2  s*t\n",
       " s^2  s^2  s^2  s*t\n",
       " s^2  s^2  s^2  s*t\n",
       " s^2  s^2  s^2  s*t"
      ]
     },
     "execution_count": 39,
     "metadata": {},
     "output_type": "execute_result"
    }
   ],
   "source": [
    "B = U * Dm"
   ]
  },
  {
   "cell_type": "code",
   "execution_count": 40,
   "metadata": {},
   "outputs": [
    {
     "data": {
      "text/latex": [
       "\\[\\left[ \\begin{array}{rrrr}s^{2} + \\frac{s}{L}&s^{2} + \\frac{s}{M}&s^{2} + 1&s t + 1\\\\s^{2} + \\frac{s}{L}&s^{2} + \\frac{s}{M}&s^{2} + 1&s t + 1\\\\s^{2} + \\frac{s}{L}&s^{2} + \\frac{s}{M}&s^{2} + 1&s t + 1\\\\s^{2} + \\frac{s}{L}&s^{2} + \\frac{s}{M}&s^{2} + 1&s t + 1\\end{array}\\right]\\]"
      ],
      "text/plain": [
       "4×4 Array{Sym,2}:\n",
       " s^2 + s/L  s^2 + s/M  s^2 + 1  s*t + 1\n",
       " s^2 + s/L  s^2 + s/M  s^2 + 1  s*t + 1\n",
       " s^2 + s/L  s^2 + s/M  s^2 + 1  s*t + 1\n",
       " s^2 + s/L  s^2 + s/M  s^2 + 1  s*t + 1"
      ]
     },
     "execution_count": 40,
     "metadata": {},
     "output_type": "execute_result"
    }
   ],
   "source": [
    "A + B"
   ]
  },
  {
   "cell_type": "code",
   "execution_count": 42,
   "metadata": {},
   "outputs": [
    {
     "name": "stdout",
     "output_type": "stream",
     "text": [
      "\\begin{equation}\n",
      "\\left[\n",
      "\\begin{array}{cccc}\n",
      "s/L & s/L & s/L & s/L \\\\\n",
      "s/M & s/M & s/M & s/M \\\\\n",
      "1 & 1 & 1 & 1 \\\\\n",
      "1 & 1 & 1 & 1 \\\\\n",
      "\\end{array}\n",
      "\\right]\n",
      "\\end{equation}\n"
     ]
    }
   ],
   "source": [
    "inv(Dp) * U |> latexify |> print"
   ]
  },
  {
   "cell_type": "markdown",
   "metadata": {},
   "source": [
    "## Using custom types"
   ]
  },
  {
   "cell_type": "code",
   "execution_count": 1,
   "metadata": {},
   "outputs": [
    {
     "name": "stdout",
     "output_type": "stream",
     "text": [
      "\u001b[32m\u001b[1mActivating\u001b[22m\u001b[39m environment at `C:\\Users\\carsten\\.julia\\dev\\StableDQMC.jl\\notebooks\\scales_visualizations\\Project.toml`\n"
     ]
    }
   ],
   "source": [
    "] activate ."
   ]
  },
  {
   "cell_type": "code",
   "execution_count": 92,
   "metadata": {},
   "outputs": [
    {
     "name": "stderr",
     "output_type": "stream",
     "text": [
      "WARNING: redefining constant scale_symbols\n"
     ]
    }
   ],
   "source": [
    "@enum Scale null=1 tiny=2 small=3 medium=4 large=5\n",
    "const unit=small\n",
    "# const scale_symbols = [' ', '▪', '◾', '■', '⬛'];\n",
    "const scale_symbols = [' ', 't', 's', 'M', 'L'];\n",
    "# const scale_symbols = [' ', 'ₓ', 'u', 'x', 'X'];\n",
    "\n",
    "symbol(s::Scale) = scale_symbols[Int(s)]\n",
    "Base.isascii(::Scale) = false\n",
    "Base.isoverlong(::Scale) = false\n",
    "Base.ismalformed(::Scale) = false\n",
    "Base.isprint(::Scale) = true\n",
    "\n",
    "# printing\n",
    "Base.show(io::IO, s::Scale) = print(io, symbol(s))\n",
    "Base.show(io::IO, ::MIME\"text/plain\", s::Scale) = show(io,s)\n",
    "Base.print(io::IO, s::Scale) = show(io, s)\n",
    "\n",
    "# math\n",
    "Base.zero(::Type{Scale}) = null\n",
    "Base.iszero(s::Scale) = s === null"
   ]
  },
  {
   "cell_type": "code",
   "execution_count": 93,
   "metadata": {},
   "outputs": [
    {
     "data": {
      "text/plain": [
       "( , t, s, M, L)"
      ]
     },
     "execution_count": 93,
     "metadata": {},
     "output_type": "execute_result"
    }
   ],
   "source": [
    "scales = null, tiny, small, medium, large"
   ]
  },
  {
   "cell_type": "code",
   "execution_count": 94,
   "metadata": {},
   "outputs": [],
   "source": [
    "using Statistics\n",
    "\n",
    "struct ScaleString <: AbstractString\n",
    "    scales::Vector{Scale}\n",
    "end\n",
    "\n",
    "# constructors\n",
    "ScaleString(s::Scale) = ScaleString([s])\n",
    "\n",
    "import Lazy: @forward\n",
    "@forward ScaleString.scales (Base.getindex, Base.length)\n",
    "\n",
    "# conversion\n",
    "Base.convert(::Type{ScaleString}, s::Scale) = ScaleString(s)\n",
    "Base.promote_rule(::Type{Scale}, ::Type{ScaleString}) = ScaleString\n",
    "\n",
    "Base.iterate(s::ScaleString) = iterate(s.scales)\n",
    "Base.iterate(s::ScaleString, state::Integer) = iterate(s.scales, state)\n",
    "\n",
    "# Base.:+(x::ScaleString, y::ScaleString) = ScaleString(vcat(x.scales, null, null, y.scales))\n",
    "Base.:*(x::ScaleString, y::ScaleString) = ScaleString(vcat(x.scales, y.scales))\n",
    "Base.zero(::Type{ScaleString}) = ScaleString(zero(Scale))\n",
    "Base.zero(::ScaleString) = zero(ScaleString)\n",
    "function Base.:+(x::ScaleString, y::ScaleString)\n",
    "    if null in x.scales\n",
    "        if null in y.scales\n",
    "            # both contain a null\n",
    "            return ScaleString([null])\n",
    "        else\n",
    "            # only x contains a null\n",
    "            return y\n",
    "        end\n",
    "    elseif null in y.scales\n",
    "        # only y contains a null\n",
    "        return x\n",
    "    else\n",
    "       return sum(Int.(x.scales)) < sum(Int.(y.scales)) ? y : x #mean(x) < mean(y) ? y : x \n",
    "    end\n",
    "end\n",
    "Base.:*(x::ScaleString, y::Scale) = iszero(y) ? ScaleString([null]) : ScaleString(vcat(x.scales, y))\n",
    "Base.:*(x::Scale, y::ScaleString) = iszero(x) ? ScaleString([null]) : ScaleString(vcat(x, y.scales))\n",
    "\n",
    "# Scale math extension\n",
    "Base.:+(x::Scale, y::Scale) = x > y ? x : y\n",
    "Base.:/(s::Scale, i::Int64) = /(Int(s), i)\n",
    "function Base.:*(x::Scale, y::Scale)\n",
    "#     if iszero(x)\n",
    "#         return ScaleString([y])\n",
    "#     elseif iszero(y)\n",
    "#         return ScaleString([x])\n",
    "#     else\n",
    "        return ScaleString([x,y])\n",
    "#     end\n",
    "end"
   ]
  },
  {
   "cell_type": "code",
   "execution_count": 95,
   "metadata": {},
   "outputs": [
    {
     "data": {
      "text/plain": [
       "\"t \""
      ]
     },
     "execution_count": 95,
     "metadata": {},
     "output_type": "execute_result"
    }
   ],
   "source": [
    "tiny * null"
   ]
  },
  {
   "cell_type": "code",
   "execution_count": 96,
   "metadata": {},
   "outputs": [
    {
     "data": {
      "text/plain": [
       "\" Ls\""
      ]
     },
     "execution_count": 96,
     "metadata": {},
     "output_type": "execute_result"
    }
   ],
   "source": [
    "A = ScaleString([tiny, small, small])\n",
    "B = ScaleString([null, large, small])"
   ]
  },
  {
   "cell_type": "code",
   "execution_count": 97,
   "metadata": {},
   "outputs": [],
   "source": [
    "using Latexify\n",
    "\n",
    "Latexify.latexraw(s::Scale) = symbol(s)\n",
    "Latexify.latexraw(s::ScaleString) = join(s.scales)"
   ]
  },
  {
   "cell_type": "code",
   "execution_count": 98,
   "metadata": {},
   "outputs": [
    {
     "data": {
      "text/plain": [
       "4×4 Array{Scale,2}:\n",
       "           \n",
       "           \n",
       "           \n",
       "           "
      ]
     },
     "execution_count": 98,
     "metadata": {},
     "output_type": "execute_result"
    }
   ],
   "source": [
    "O = zeros(Scale, 4,4)"
   ]
  },
  {
   "cell_type": "code",
   "execution_count": 99,
   "metadata": {},
   "outputs": [
    {
     "data": {
      "text/plain": [
       "4×4 Array{Scale,2}:\n",
       " s  s  s  s\n",
       " s  s  s  s\n",
       " s  s  s  s\n",
       " s  s  s  s"
      ]
     },
     "execution_count": 99,
     "metadata": {},
     "output_type": "execute_result"
    }
   ],
   "source": [
    "U = fill(unit, 4,4)"
   ]
  },
  {
   "cell_type": "code",
   "execution_count": 100,
   "metadata": {},
   "outputs": [
    {
     "data": {
      "text/latex": [
       "\\begin{equation}\n",
       "\\left[\n",
       "\\begin{array}{cccc}\n",
       "s & s & s & s \\\\\n",
       "s & s & s & s \\\\\n",
       "s & s & s & s \\\\\n",
       "s & s & s & s \\\\\n",
       "\\end{array}\n",
       "\\right]\n",
       "\\end{equation}\n"
      ],
      "text/plain": [
       "L\"\\begin{equation}\n",
       "\\left[\n",
       "\\begin{array}{cccc}\n",
       "s & s & s & s \\\\\n",
       "s & s & s & s \\\\\n",
       "s & s & s & s \\\\\n",
       "s & s & s & s \\\\\n",
       "\\end{array}\n",
       "\\right]\n",
       "\\end{equation}\n",
       "\""
      ]
     },
     "execution_count": 100,
     "metadata": {},
     "output_type": "execute_result"
    }
   ],
   "source": [
    "U |> latexify"
   ]
  },
  {
   "cell_type": "code",
   "execution_count": 101,
   "metadata": {},
   "outputs": [
    {
     "data": {
      "text/latex": [
       "\\begin{equation}\n",
       "\\left[\n",
       "\\begin{array}{cccc}\n",
       "ss & ss & ss & ss \\\\\n",
       "ss & ss & ss & ss \\\\\n",
       "ss & ss & ss & ss \\\\\n",
       "ss & ss & ss & ss \\\\\n",
       "\\end{array}\n",
       "\\right]\n",
       "\\end{equation}\n"
      ],
      "text/plain": [
       "L\"\\begin{equation}\n",
       "\\left[\n",
       "\\begin{array}{cccc}\n",
       "ss & ss & ss & ss \\\\\n",
       "ss & ss & ss & ss \\\\\n",
       "ss & ss & ss & ss \\\\\n",
       "ss & ss & ss & ss \\\\\n",
       "\\end{array}\n",
       "\\right]\n",
       "\\end{equation}\n",
       "\""
      ]
     },
     "execution_count": 101,
     "metadata": {},
     "output_type": "execute_result"
    }
   ],
   "source": [
    "U * U |> latexify"
   ]
  },
  {
   "cell_type": "code",
   "execution_count": 102,
   "metadata": {},
   "outputs": [
    {
     "data": {
      "text/plain": [
       "4×4 Array{ScaleString,2}:\n",
       " \" \"  \" \"  \" \"  \" \"\n",
       " \" \"  \" \"  \" \"  \" \"\n",
       " \" \"  \" \"  \" \"  \" \"\n",
       " \" \"  \" \"  \" \"  \" \""
      ]
     },
     "execution_count": 102,
     "metadata": {},
     "output_type": "execute_result"
    }
   ],
   "source": [
    "U * O"
   ]
  },
  {
   "cell_type": "code",
   "execution_count": 103,
   "metadata": {},
   "outputs": [
    {
     "data": {
      "text/plain": [
       "4×4 Array{Scale,2}:\n",
       " L         \n",
       "    M      \n",
       "       s   \n",
       "          t"
      ]
     },
     "execution_count": 103,
     "metadata": {},
     "output_type": "execute_result"
    }
   ],
   "source": [
    "using LinearAlgebra\n",
    "D = diagm([large, medium, small, tiny])"
   ]
  },
  {
   "cell_type": "code",
   "execution_count": 104,
   "metadata": {},
   "outputs": [
    {
     "data": {
      "text/latex": [
       "\\begin{equation}\n",
       "\\left[\n",
       "\\begin{array}{cccc}\n",
       "L &   &   &   \\\\\n",
       "  & M &   &   \\\\\n",
       "  &   & s &   \\\\\n",
       "  &   &   & t \\\\\n",
       "\\end{array}\n",
       "\\right]\n",
       "\\end{equation}\n"
      ],
      "text/plain": [
       "L\"\\begin{equation}\n",
       "\\left[\n",
       "\\begin{array}{cccc}\n",
       "L &   &   &   \\\\\n",
       "  & M &   &   \\\\\n",
       "  &   & s &   \\\\\n",
       "  &   &   & t \\\\\n",
       "\\end{array}\n",
       "\\right]\n",
       "\\end{equation}\n",
       "\""
      ]
     },
     "execution_count": 104,
     "metadata": {},
     "output_type": "execute_result"
    }
   ],
   "source": [
    "D |> latexify"
   ]
  },
  {
   "cell_type": "code",
   "execution_count": 105,
   "metadata": {},
   "outputs": [
    {
     "data": {
      "text/latex": [
       "\\begin{equation}\n",
       "\\left[\n",
       "\\begin{array}{cccc}\n",
       "sL & sM & ss & st \\\\\n",
       "sL & sM & ss & st \\\\\n",
       "sL & sM & ss & st \\\\\n",
       "sL & sM & ss & st \\\\\n",
       "\\end{array}\n",
       "\\right]\n",
       "\\end{equation}\n"
      ],
      "text/plain": [
       "L\"\\begin{equation}\n",
       "\\left[\n",
       "\\begin{array}{cccc}\n",
       "sL & sM & ss & st \\\\\n",
       "sL & sM & ss & st \\\\\n",
       "sL & sM & ss & st \\\\\n",
       "sL & sM & ss & st \\\\\n",
       "\\end{array}\n",
       "\\right]\n",
       "\\end{equation}\n",
       "\""
      ]
     },
     "execution_count": 105,
     "metadata": {},
     "output_type": "execute_result"
    }
   ],
   "source": [
    "U * D |> latexify"
   ]
  },
  {
   "cell_type": "code",
   "execution_count": 106,
   "metadata": {},
   "outputs": [
    {
     "data": {
      "text/latex": [
       "\\begin{equation}\n",
       "\\left[\n",
       "\\begin{array}{cccc}\n",
       "LsL & LsM & Lss & Lst \\\\\n",
       "MsL & MsM & Mss & Mst \\\\\n",
       "ssL & ssM & sss & sst \\\\\n",
       "tsL & tsM & tss & tst \\\\\n",
       "\\end{array}\n",
       "\\right]\n",
       "\\end{equation}\n"
      ],
      "text/plain": [
       "L\"\\begin{equation}\n",
       "\\left[\n",
       "\\begin{array}{cccc}\n",
       "LsL & LsM & Lss & Lst \\\\\n",
       "MsL & MsM & Mss & Mst \\\\\n",
       "ssL & ssM & sss & sst \\\\\n",
       "tsL & tsM & tss & tst \\\\\n",
       "\\end{array}\n",
       "\\right]\n",
       "\\end{equation}\n",
       "\""
      ]
     },
     "execution_count": 106,
     "metadata": {},
     "output_type": "execute_result"
    }
   ],
   "source": [
    "D * U * D |> latexify"
   ]
  },
  {
   "cell_type": "code",
   "execution_count": 107,
   "metadata": {},
   "outputs": [
    {
     "data": {
      "text/latex": [
       "\\begin{equation}\n",
       "\\left[\n",
       "\\begin{array}{c}\n",
       "Ls \\\\\n",
       "Ms \\\\\n",
       "ss \\\\\n",
       "ts \\\\\n",
       "\\end{array}\n",
       "\\right]\n",
       "\\end{equation}\n"
      ],
      "text/plain": [
       "L\"\\begin{equation}\n",
       "\\left[\n",
       "\\begin{array}{c}\n",
       "Ls \\\\\n",
       "Ms \\\\\n",
       "ss \\\\\n",
       "ts \\\\\n",
       "\\end{array}\n",
       "\\right]\n",
       "\\end{equation}\n",
       "\""
      ]
     },
     "execution_count": 107,
     "metadata": {},
     "output_type": "execute_result"
    }
   ],
   "source": [
    "D * [small, small, small, small] |> latexify"
   ]
  },
  {
   "cell_type": "code",
   "execution_count": 108,
   "metadata": {},
   "outputs": [
    {
     "data": {
      "text/latex": [
       "\\begin{equation}\n",
       "\\left[\n",
       "\\begin{array}{c}\n",
       "LL \\\\\n",
       "MM \\\\\n",
       "ss \\\\\n",
       "tt \\\\\n",
       "\\end{array}\n",
       "\\right]\n",
       "\\end{equation}\n"
      ],
      "text/plain": [
       "L\"\\begin{equation}\n",
       "\\left[\n",
       "\\begin{array}{c}\n",
       "LL \\\\\n",
       "MM \\\\\n",
       "ss \\\\\n",
       "tt \\\\\n",
       "\\end{array}\n",
       "\\right]\n",
       "\\end{equation}\n",
       "\""
      ]
     },
     "execution_count": 108,
     "metadata": {},
     "output_type": "execute_result"
    }
   ],
   "source": [
    "D * [large, medium, small, tiny] |> latexify"
   ]
  },
  {
   "cell_type": "code",
   "execution_count": 109,
   "metadata": {},
   "outputs": [
    {
     "data": {
      "text/plain": [
       "true"
      ]
     },
     "execution_count": 109,
     "metadata": {},
     "output_type": "execute_result"
    }
   ],
   "source": [
    "R = D * U * D\n",
    "R[1] == ScaleString([large,unit,large])"
   ]
  }
 ],
 "metadata": {
  "kernelspec": {
   "display_name": "Julia (4 threads) 1.3.1",
   "language": "julia",
   "name": "julia-(4-threads)-1.3"
  },
  "language_info": {
   "file_extension": ".jl",
   "mimetype": "application/julia",
   "name": "julia",
   "version": "1.3.1"
  }
 },
 "nbformat": 4,
 "nbformat_minor": 4
}
